{
 "cells": [
  {
   "cell_type": "markdown",
   "metadata": {},
   "source": [
    "# Practice notebook for confidence intervals using NHANES data\n",
    "\n",
    "This notebook will give you the opportunity to practice working with confidence intervals using the NHANES data.\n",
    "\n",
    "You can enter your code into the cells that say \"enter your code here\", and you can type responses to the questions into the cells that say \"Type Markdown and Latex\".\n",
    "\n",
    "Note that most of the code that you will need to write below is very similar to code that appears in the case study notebook.  You will need to edit code from that notebook in small ways to adapt it to the prompts below.\n",
    "\n",
    "To get started, we will use the same module imports and read the data in the same way as we did in the case study:"
   ]
  },
  {
   "cell_type": "code",
   "execution_count": 14,
   "metadata": {},
   "outputs": [],
   "source": [
    "%matplotlib inline\n",
    "import matplotlib.pyplot as plt\n",
    "import pandas as pd\n",
    "import numpy as np\n",
    "import seaborn as sns\n",
    "import statsmodels.api as sm\n",
    "\n",
    "da = pd.read_csv(\"nhanes_2015_2016.csv\")"
   ]
  },
  {
   "cell_type": "markdown",
   "metadata": {},
   "source": [
    "## Question 1\n",
    "\n",
    "Restrict the sample to women between 35 and 50, then use the marital status variable [DMDMARTL](https://wwwn.cdc.gov/Nchs/Nhanes/2015-2016/DEMO_I.htm#DMDMARTL) to partition this sample into two groups - women who are currently married, and women who are not currently married.  Within each of these groups, calculate the proportion of women who have completed college.  Calculate 95% confidence intervals for each of these proportions."
   ]
  },
  {
   "cell_type": "code",
   "execution_count": 15,
   "metadata": {},
   "outputs": [
    {
     "data": {
      "text/plain": [
       "(449, 338)"
      ]
     },
     "execution_count": 15,
     "metadata": {},
     "output_type": "execute_result"
    }
   ],
   "source": [
    "da_female_35_50 = da[(da.RIAGENDR==2) & (da.RIDAGEYR >=35) & (da.RIDAGEYR <=50)]\n",
    "da_female_35_50.reset_index(inplace = True,drop = True)      #to reset indexes to start from 0 in the edited dataframe\n",
    "#dz = da_female_35_50[[\"RIAGENDR\",\"RIDAGEYR\"]]\n",
    "da_married = da_female_35_50[da_female_35_50[\"DMDMARTL\"]==1]\n",
    "da_notmarried = da_female_35_50[da_female_35_50[\"DMDMARTL\"].isin([2,3,4,5,6])]\n",
    "len(da_married),len(da_notmarried)"
   ]
  },
  {
   "cell_type": "code",
   "execution_count": 16,
   "metadata": {},
   "outputs": [
    {
     "data": {
      "text/plain": [
       "0.36080178173719374"
      ]
     },
     "execution_count": 16,
     "metadata": {},
     "output_type": "execute_result"
    }
   ],
   "source": [
    "#Proportion of women who are married and completed college\n",
    "p1 = len(da_married[da_married[\"DMDEDUC2\"]==5])/len(da_married)\n",
    "p1"
   ]
  },
  {
   "cell_type": "code",
   "execution_count": 17,
   "metadata": {},
   "outputs": [
    {
     "data": {
      "text/plain": [
       "0.21301775147928995"
      ]
     },
     "execution_count": 17,
     "metadata": {},
     "output_type": "execute_result"
    }
   ],
   "source": [
    "#Proportion of women are not married and completed college\n",
    "p2 =len(da_notmarried[da_notmarried[\"DMDEDUC2\"]==5])/len(da_notmarried)\n",
    "p2"
   ]
  },
  {
   "cell_type": "code",
   "execution_count": 6,
   "metadata": {},
   "outputs": [
    {
     "data": {
      "text/plain": [
       "0.02266360248455356"
      ]
     },
     "execution_count": 6,
     "metadata": {},
     "output_type": "execute_result"
    }
   ],
   "source": [
    "#standard errors for married\n",
    "se_married = np.sqrt((p1 * (1-p1)) / len(da_married))\n",
    "se_married"
   ]
  },
  {
   "cell_type": "code",
   "execution_count": 7,
   "metadata": {},
   "outputs": [
    {
     "data": {
      "text/plain": [
       "0.022270605048202215"
      ]
     },
     "execution_count": 7,
     "metadata": {},
     "output_type": "execute_result"
    }
   ],
   "source": [
    "#standard errors for not married\n",
    "se_notmarried = np.sqrt((p2 * (1-p2)) / len(da_notmarried))\n",
    "se_notmarried"
   ]
  },
  {
   "cell_type": "code",
   "execution_count": 8,
   "metadata": {},
   "outputs": [],
   "source": [
    "ub_m = p1 + (1.96 * se_married)\n",
    "lb_m = p1 - (1.96 * se_married)"
   ]
  },
  {
   "cell_type": "code",
   "execution_count": 9,
   "metadata": {},
   "outputs": [
    {
     "name": "stdout",
     "output_type": "stream",
     "text": [
      "Confidence Interval of married proportion : (0.3163811208674688, 0.4052224426069187)\n"
     ]
    }
   ],
   "source": [
    "a = (lb_m,ub_m)\n",
    "print(\"Confidence Interval of married proportion : \" + str(a))\n"
   ]
  },
  {
   "cell_type": "code",
   "execution_count": 10,
   "metadata": {},
   "outputs": [],
   "source": [
    "ub_nm = p2 + (1.96 * se_notmarried)\n",
    "lb_nm = p2 - (1.96 * se_notmarried)"
   ]
  },
  {
   "cell_type": "code",
   "execution_count": 12,
   "metadata": {},
   "outputs": [
    {
     "name": "stdout",
     "output_type": "stream",
     "text": [
      "Confidence Interval of unmarried proportion : (0.1693673655848136, 0.25666813737376626)\n"
     ]
    }
   ],
   "source": [
    "a = (lb_nm,ub_nm)\n",
    "print(\"Confidence Interval of unmarried proportion : \" + str(a))"
   ]
  },
  {
   "cell_type": "markdown",
   "metadata": {},
   "source": [
    "__Q1a.__ Identify which of the two confidence intervals is wider, and explain why this is the case. "
   ]
  },
  {
   "cell_type": "markdown",
   "metadata": {},
   "source": [
    "The confidence interval of married proportion is slightly higher as their standard error is slightly higher as compared to unmarried proportion."
   ]
  },
  {
   "cell_type": "markdown",
   "metadata": {},
   "source": [
    "__Q1b.__ Write 1-2 sentences summarizing these findings for an audience that does not know what a confidence interval is (the goal here is to report the substance of what you learned about how marital status and educational attainment are related, not to teach a person what a confidence interval is)."
   ]
  },
  {
   "cell_type": "markdown",
   "metadata": {},
   "source": [
    "A higher proportion of women are married have completed college in comparison to the women who are not married.\n",
    "with 95% confidence we state that 32% to 41% of women who are married have completed college and 17% to 26% of women who are not married have completed college."
   ]
  },
  {
   "cell_type": "markdown",
   "metadata": {},
   "source": [
    "## Question 2\n",
    "\n",
    "Construct a 95% confidence interval for the proportion of smokers who are female. Construct a 95% confidence interval for the proportion of smokers who are male. Construct a 95% confidence interval for the **difference** between those two gender proportions."
   ]
  },
  {
   "cell_type": "code",
   "execution_count": 20,
   "metadata": {},
   "outputs": [
    {
     "data": {
      "text/plain": [
       "2319"
      ]
     },
     "execution_count": 20,
     "metadata": {},
     "output_type": "execute_result"
    }
   ],
   "source": [
    "#Smokers dataframe\n",
    "da_smoker = da[da[\"SMQ020\"]==1]\n",
    "da_smoker.reset_index(inplace = True,drop = True)\n",
    "len(da_smoker)"
   ]
  },
  {
   "cell_type": "code",
   "execution_count": 21,
   "metadata": {},
   "outputs": [
    {
     "data": {
      "text/plain": [
       "0.3906856403622251"
      ]
     },
     "execution_count": 21,
     "metadata": {},
     "output_type": "execute_result"
    }
   ],
   "source": [
    "#proportion of smokers who are female\n",
    "p1 = len(da_smoker[da_smoker[\"RIAGENDR\"]==2]) / len(da_smoker)\n",
    "p1"
   ]
  },
  {
   "cell_type": "code",
   "execution_count": 22,
   "metadata": {},
   "outputs": [
    {
     "data": {
      "text/plain": [
       "0.6093143596377749"
      ]
     },
     "execution_count": 22,
     "metadata": {},
     "output_type": "execute_result"
    }
   ],
   "source": [
    "#proportion of smokers who are male\n",
    "p2 = len(da_smoker[da_smoker[\"RIAGENDR\"]==1])/len(da_smoker)\n",
    "p2"
   ]
  },
  {
   "cell_type": "code",
   "execution_count": 23,
   "metadata": {},
   "outputs": [
    {
     "data": {
      "text/plain": [
       "0.016209526631489866"
      ]
     },
     "execution_count": 23,
     "metadata": {},
     "output_type": "execute_result"
    }
   ],
   "source": [
    "#standard error for females\n",
    "se_females = np.sqrt((p1 * (1-p1)) / len(da_smoker[da_smoker[\"RIAGENDR\"]==2]))\n",
    "se_females"
   ]
  },
  {
   "cell_type": "code",
   "execution_count": 24,
   "metadata": {},
   "outputs": [
    {
     "data": {
      "text/plain": [
       "0.012979661011895138"
      ]
     },
     "execution_count": 24,
     "metadata": {},
     "output_type": "execute_result"
    }
   ],
   "source": [
    "#standard error for males\n",
    "se_males = np.sqrt((p2 * (1-p2)) / len(da_smoker[da_smoker[\"RIAGENDR\"]==1]))\n",
    "se_males"
   ]
  },
  {
   "cell_type": "code",
   "execution_count": 25,
   "metadata": {},
   "outputs": [
    {
     "name": "stdout",
     "output_type": "stream",
     "text": [
      "95% Confidence interval for smoker females:(0.35891496816450497, 0.4224563125599452)\n"
     ]
    }
   ],
   "source": [
    "#Confidence intervals for females\n",
    "lb = p1 - (1.96 * se_females)\n",
    "ub = p1 + (1.96 * se_females)\n",
    "a = lb,ub\n",
    "print(\"95% Confidence interval for smoker females:\" + str(a))"
   ]
  },
  {
   "cell_type": "code",
   "execution_count": 27,
   "metadata": {},
   "outputs": [
    {
     "name": "stdout",
     "output_type": "stream",
     "text": [
      "95% Confidence interval for smoker males:(0.5838742240544604, 0.6347544952210894)\n"
     ]
    }
   ],
   "source": [
    "#Confidence intervals for males\n",
    "lb = p2 - (1.96 * se_males)\n",
    "ub = p2 + (1.96 * se_males)\n",
    "a = lb,ub\n",
    "print(\"95% Confidence interval for smoker males:\" + str(a))"
   ]
  },
  {
   "cell_type": "markdown",
   "metadata": {},
   "source": [
    "For difference between these proportions \n"
   ]
  },
  {
   "cell_type": "code",
   "execution_count": 29,
   "metadata": {},
   "outputs": [
    {
     "data": {
      "text/plain": [
       "0.020765845843612775"
      ]
     },
     "execution_count": 29,
     "metadata": {},
     "output_type": "execute_result"
    }
   ],
   "source": [
    "#Difference standard errors\n",
    "sd = np.sqrt(se_females**2 + se_males**2)\n",
    "sd"
   ]
  },
  {
   "cell_type": "code",
   "execution_count": 31,
   "metadata": {},
   "outputs": [
    {
     "name": "stdout",
     "output_type": "stream",
     "text": [
      "0.21862871927554983\n",
      "95% Confidence interval for difference in proportion is:(0.17792766142206878, 0.2593297771290309)\n"
     ]
    }
   ],
   "source": [
    "print(p2-p1)\n",
    "lb = (p2-p1) - (1.96 * sd)\n",
    "ub = (p2-p1) + (1.96 * sd)\n",
    "a = lb,ub\n",
    "print(\"95% Confidence interval for difference in proportion is:\" + str(a))\n"
   ]
  },
  {
   "cell_type": "markdown",
   "metadata": {},
   "source": [
    "__Q2a.__ Why might it be relevant to report the separate gender proportions **and** the difference between the gender proportions?"
   ]
  },
  {
   "cell_type": "markdown",
   "metadata": {},
   "source": [
    "So that now we know that there is a higher proportion of men being smokers than women being smokers.36% to 42% of smokers are women and 58% to 64% of smokers are men(with 95% confidence).\n",
    "The difference between the gender proportions tells us the proportion of men who are smokers is 22 percentage points higher than\n",
    "women who are smokers"
   ]
  },
  {
   "cell_type": "markdown",
   "metadata": {},
   "source": [
    "__Q2b.__ How does the **width** of the confidence interval for the difference between the gender proportions compare to the widths of the confidence intervals for the separate gender proportions?"
   ]
  },
  {
   "cell_type": "markdown",
   "metadata": {},
   "source": [
    "The width of CI of difference of gender proportions is higher than the width of CI of separate proportions of gender.Male smokers are 18% to 26% higher percentage points than women"
   ]
  },
  {
   "cell_type": "markdown",
   "metadata": {},
   "source": [
    "## Question 3\n",
    "\n",
    "Construct a 95% interval for height ([BMXHT](https://wwwn.cdc.gov/Nchs/Nhanes/2015-2016/BMX_I.htm#BMXHT)) in centimeters.  Then convert height from centimeters to inches by dividing by 2.54, and construct a 95% confidence interval for height in inches.  Finally, convert the endpoints (the lower and upper confidence limits) of the confidence interval from inches to back to centimeters   "
   ]
  },
  {
   "cell_type": "code",
   "execution_count": 21,
   "metadata": {},
   "outputs": [
    {
     "name": "stdout",
     "output_type": "stream",
     "text": [
      "166.1428344791116\n",
      "0.13382042856478818\n"
     ]
    }
   ],
   "source": [
    "# enter your code here\n",
    "#Confidence interval for centimeters\n",
    "dx = da.BMXHT.dropna()\n",
    "estimate = dx.mean()\n",
    "print(estimate)\n",
    "standard_dev = dx.std()\n",
    "standard_error = standard_dev / np.sqrt(len(dx))\n",
    "print(standard_error)"
   ]
  },
  {
   "cell_type": "code",
   "execution_count": 22,
   "metadata": {},
   "outputs": [
    {
     "name": "stdout",
     "output_type": "stream",
     "text": [
      "95% Confidence interval in centimeters:(165.8805464391246, 166.4051225190986)\n"
     ]
    }
   ],
   "source": [
    "lb = estimate - (1.96 * standard_error)\n",
    "ub = estimate + (1.96 * standard_error)\n",
    "a = lb,ub\n",
    "print(\"95% Confidence interval in centimeters:\" + str(a))"
   ]
  },
  {
   "cell_type": "code",
   "execution_count": 23,
   "metadata": {},
   "outputs": [
    {
     "name": "stdout",
     "output_type": "stream",
     "text": [
      "65.41056475555574\n",
      "0.05268520809637329\n"
     ]
    }
   ],
   "source": [
    "#Confidence interval for inches\n",
    "dx = dx/2.54\n",
    "estimate = dx.mean()\n",
    "print(estimate)\n",
    "standard_dev = dx.std()\n",
    "standard_error = standard_dev / np.sqrt(len(dx))\n",
    "print(standard_error)"
   ]
  },
  {
   "cell_type": "code",
   "execution_count": 24,
   "metadata": {},
   "outputs": [
    {
     "name": "stdout",
     "output_type": "stream",
     "text": [
      "95% Confidence interval in inches:(65.30730174768685, 65.51382776342463)\n"
     ]
    }
   ],
   "source": [
    "ub = estimate + (1.96 * standard_error)\n",
    "lb = estimate - (1.96 * standard_error)\n",
    "a = lb,ub\n",
    "print(\"95% Confidence interval in inches:\" + str(a))"
   ]
  },
  {
   "cell_type": "code",
   "execution_count": 25,
   "metadata": {},
   "outputs": [
    {
     "name": "stdout",
     "output_type": "stream",
     "text": [
      "95% Confidence intervals back to centimeters:(165.8805464391246, 166.40512251909857)\n"
     ]
    }
   ],
   "source": [
    "lst = np.array(a)\n",
    "lst = lst * 2.54\n",
    "b = tuple(lst)\n",
    "print(\"95% Confidence intervals back to centimeters:\" + str(b))"
   ]
  },
  {
   "cell_type": "markdown",
   "metadata": {},
   "source": [
    "__Q3a.__ Describe how the confidence interval constructed in centimeters relates to the confidence interval constructed in inches."
   ]
  },
  {
   "cell_type": "markdown",
   "metadata": {},
   "source": [
    "The Confidence Interval constructed in Centimeters is wider than CI constructed in Inches"
   ]
  },
  {
   "cell_type": "markdown",
   "metadata": {},
   "source": [
    "## Question 4\n",
    "\n",
    "Partition the sample based on 10-year age bands, i.e. the resulting groups will consist of people with ages from 18-28, 29-38, etc. Construct 95% confidence intervals for the difference between the mean BMI for females and for males within each age band."
   ]
  },
  {
   "cell_type": "code",
   "execution_count": 26,
   "metadata": {},
   "outputs": [
    {
     "data": {
      "text/html": [
       "<div>\n",
       "<style scoped>\n",
       "    .dataframe tbody tr th:only-of-type {\n",
       "        vertical-align: middle;\n",
       "    }\n",
       "\n",
       "    .dataframe tbody tr th {\n",
       "        vertical-align: top;\n",
       "    }\n",
       "\n",
       "    .dataframe thead tr th {\n",
       "        text-align: left;\n",
       "    }\n",
       "\n",
       "    .dataframe thead tr:last-of-type th {\n",
       "        text-align: right;\n",
       "    }\n",
       "</style>\n",
       "<table border=\"1\" class=\"dataframe\">\n",
       "  <thead>\n",
       "    <tr>\n",
       "      <th></th>\n",
       "      <th colspan=\"11\" halign=\"left\">BMXBMI</th>\n",
       "    </tr>\n",
       "    <tr>\n",
       "      <th></th>\n",
       "      <th colspan=\"2\" halign=\"left\">mean</th>\n",
       "      <th colspan=\"2\" halign=\"left\">std</th>\n",
       "      <th colspan=\"2\" halign=\"left\">size</th>\n",
       "      <th colspan=\"2\" halign=\"left\">se</th>\n",
       "      <th>mean_diff</th>\n",
       "      <th>lb</th>\n",
       "      <th>ub</th>\n",
       "    </tr>\n",
       "    <tr>\n",
       "      <th>RIAGENDRx</th>\n",
       "      <th>Female</th>\n",
       "      <th>Male</th>\n",
       "      <th>Female</th>\n",
       "      <th>Male</th>\n",
       "      <th>Female</th>\n",
       "      <th>Male</th>\n",
       "      <th>Female</th>\n",
       "      <th>Male</th>\n",
       "      <th></th>\n",
       "      <th></th>\n",
       "      <th></th>\n",
       "    </tr>\n",
       "    <tr>\n",
       "      <th>agegrp</th>\n",
       "      <th></th>\n",
       "      <th></th>\n",
       "      <th></th>\n",
       "      <th></th>\n",
       "      <th></th>\n",
       "      <th></th>\n",
       "      <th></th>\n",
       "      <th></th>\n",
       "      <th></th>\n",
       "      <th></th>\n",
       "      <th></th>\n",
       "    </tr>\n",
       "  </thead>\n",
       "  <tbody>\n",
       "    <tr>\n",
       "      <th>(18, 28]</th>\n",
       "      <td>28.019433</td>\n",
       "      <td>27.058186</td>\n",
       "      <td>8.048854</td>\n",
       "      <td>6.679515</td>\n",
       "      <td>498.0</td>\n",
       "      <td>458.0</td>\n",
       "      <td>0.360678</td>\n",
       "      <td>0.312113</td>\n",
       "      <td>0.961247</td>\n",
       "      <td>0.026381</td>\n",
       "      <td>1.896114</td>\n",
       "    </tr>\n",
       "    <tr>\n",
       "      <th>(28, 38]</th>\n",
       "      <td>29.943443</td>\n",
       "      <td>29.697180</td>\n",
       "      <td>7.959097</td>\n",
       "      <td>6.726690</td>\n",
       "      <td>494.0</td>\n",
       "      <td>467.0</td>\n",
       "      <td>0.358097</td>\n",
       "      <td>0.311274</td>\n",
       "      <td>0.246263</td>\n",
       "      <td>-0.683705</td>\n",
       "      <td>1.176230</td>\n",
       "    </tr>\n",
       "    <tr>\n",
       "      <th>(38, 48]</th>\n",
       "      <td>31.003733</td>\n",
       "      <td>29.514646</td>\n",
       "      <td>8.044642</td>\n",
       "      <td>6.104950</td>\n",
       "      <td>514.0</td>\n",
       "      <td>398.0</td>\n",
       "      <td>0.354834</td>\n",
       "      <td>0.306014</td>\n",
       "      <td>1.489086</td>\n",
       "      <td>0.570703</td>\n",
       "      <td>2.407470</td>\n",
       "    </tr>\n",
       "    <tr>\n",
       "      <th>(48, 58]</th>\n",
       "      <td>30.787361</td>\n",
       "      <td>29.385132</td>\n",
       "      <td>7.647590</td>\n",
       "      <td>6.151534</td>\n",
       "      <td>454.0</td>\n",
       "      <td>419.0</td>\n",
       "      <td>0.358919</td>\n",
       "      <td>0.300522</td>\n",
       "      <td>1.402230</td>\n",
       "      <td>0.484714</td>\n",
       "      <td>2.319745</td>\n",
       "    </tr>\n",
       "    <tr>\n",
       "      <th>(58, 68]</th>\n",
       "      <td>31.054664</td>\n",
       "      <td>29.232462</td>\n",
       "      <td>7.779502</td>\n",
       "      <td>5.959024</td>\n",
       "      <td>466.0</td>\n",
       "      <td>470.0</td>\n",
       "      <td>0.360378</td>\n",
       "      <td>0.274869</td>\n",
       "      <td>1.822202</td>\n",
       "      <td>0.933853</td>\n",
       "      <td>2.710551</td>\n",
       "    </tr>\n",
       "    <tr>\n",
       "      <th>(68, 78]</th>\n",
       "      <td>30.537818</td>\n",
       "      <td>28.720270</td>\n",
       "      <td>6.780588</td>\n",
       "      <td>5.336652</td>\n",
       "      <td>279.0</td>\n",
       "      <td>307.0</td>\n",
       "      <td>0.405943</td>\n",
       "      <td>0.304579</td>\n",
       "      <td>1.817548</td>\n",
       "      <td>0.822844</td>\n",
       "      <td>2.812252</td>\n",
       "    </tr>\n",
       "    <tr>\n",
       "      <th>(78, 88]</th>\n",
       "      <td>27.850000</td>\n",
       "      <td>27.464368</td>\n",
       "      <td>5.483781</td>\n",
       "      <td>4.695650</td>\n",
       "      <td>201.0</td>\n",
       "      <td>177.0</td>\n",
       "      <td>0.386796</td>\n",
       "      <td>0.352947</td>\n",
       "      <td>0.385632</td>\n",
       "      <td>-0.640672</td>\n",
       "      <td>1.411936</td>\n",
       "    </tr>\n",
       "  </tbody>\n",
       "</table>\n",
       "</div>"
      ],
      "text/plain": [
       "              BMXBMI                                                         \\\n",
       "                mean                  std             size               se   \n",
       "RIAGENDRx     Female       Male    Female      Male Female   Male    Female   \n",
       "agegrp                                                                        \n",
       "(18, 28]   28.019433  27.058186  8.048854  6.679515  498.0  458.0  0.360678   \n",
       "(28, 38]   29.943443  29.697180  7.959097  6.726690  494.0  467.0  0.358097   \n",
       "(38, 48]   31.003733  29.514646  8.044642  6.104950  514.0  398.0  0.354834   \n",
       "(48, 58]   30.787361  29.385132  7.647590  6.151534  454.0  419.0  0.358919   \n",
       "(58, 68]   31.054664  29.232462  7.779502  5.959024  466.0  470.0  0.360378   \n",
       "(68, 78]   30.537818  28.720270  6.780588  5.336652  279.0  307.0  0.405943   \n",
       "(78, 88]   27.850000  27.464368  5.483781  4.695650  201.0  177.0  0.386796   \n",
       "\n",
       "                                                   \n",
       "                    mean_diff        lb        ub  \n",
       "RIAGENDRx      Male                                \n",
       "agegrp                                             \n",
       "(18, 28]   0.312113  0.961247  0.026381  1.896114  \n",
       "(28, 38]   0.311274  0.246263 -0.683705  1.176230  \n",
       "(38, 48]   0.306014  1.489086  0.570703  2.407470  \n",
       "(48, 58]   0.300522  1.402230  0.484714  2.319745  \n",
       "(58, 68]   0.274869  1.822202  0.933853  2.710551  \n",
       "(68, 78]   0.304579  1.817548  0.822844  2.812252  \n",
       "(78, 88]   0.352947  0.385632 -0.640672  1.411936  "
      ]
     },
     "execution_count": 26,
     "metadata": {},
     "output_type": "execute_result"
    }
   ],
   "source": [
    "da[\"agegrp\"] = pd.cut(da.RIDAGEYR,[18,28,38,48,58,68,78,88]).dropna()\n",
    "da[\"RIAGENDRx\"] = da.RIAGENDR.replace({1:\"Male\",2:\"Female\"}).dropna()\n",
    "da.BMXBMI = da.BMXBMI.dropna()\n",
    "pr = da.groupby([\"agegrp\",\"RIAGENDRx\"]).agg({\"BMXBMI\" : [np.mean,np.std,np.size]}).unstack()\n",
    "pr[\"BMXBMI\",\"se\",\"Female\"] = pr[\"BMXBMI\",\"std\",\"Female\"]/np.sqrt(pr[\"BMXBMI\",\"size\",\"Female\"])\n",
    "pr[\"BMXBMI\",\"se\",\"Male\"] = pr[\"BMXBMI\",\"std\",\"Male\"]/np.sqrt(pr[\"BMXBMI\",\"size\",\"Male\"])\n",
    "pr[\"BMXBMI\",\"mean_diff\",\"\"] = pr[\"BMXBMI\",\"mean\",\"Female\"] - pr[\"BMXBMI\",\"mean\",\"Male\"]\n",
    "pr[\"BMXBMI\",\"lb\",\"\"] = pr[\"BMXBMI\",\"mean_diff\",\"\"] - (1.96 * np.sqrt(pr[\"BMXBMI\",\"se\",\"Female\"]**2 + pr[\"BMXBMI\",\"se\",\"Male\"]**2))\n",
    "pr[\"BMXBMI\",\"ub\",\"\"] = pr[\"BMXBMI\",\"mean_diff\",\"\"] + (1.96 * np.sqrt(pr[\"BMXBMI\",\"se\",\"Female\"]**2 + pr[\"BMXBMI\",\"se\",\"Male\"]**2))\n",
    "pr"
   ]
  },
  {
   "cell_type": "markdown",
   "metadata": {},
   "source": [
    "__Q4a.__ How do the widths of these confidence intervals differ?  Provide an explanation for any substantial diferences in the confidence interval widths that you see."
   ]
  },
  {
   "cell_type": "markdown",
   "metadata": {},
   "source": [
    "The CI for most of the age bands are fairly equal except for agegrp 28-38 and 78-88 where 0 also lies in the Interval which means that there is plausible evidence that mean body mass index of genders is same."
   ]
  },
  {
   "cell_type": "markdown",
   "metadata": {},
   "source": [
    "## Question 5\n",
    "\n",
    "Construct a 95% confidence interval for the first and second systolic blood pressure measures, and for the difference between the first and second systolic blood pressure measurements within a subject."
   ]
  },
  {
   "cell_type": "code",
   "execution_count": 32,
   "metadata": {},
   "outputs": [],
   "source": [
    "# enter code here\n",
    "#CI FOR THE FIRST AND SECOND BLOOD PRESSURES\n",
    "first = da.BPXSY1\n",
    "second = da.BPXSY2\n",
    "first = first.dropna()\n",
    "second = second.dropna()\n"
   ]
  },
  {
   "cell_type": "code",
   "execution_count": 35,
   "metadata": {},
   "outputs": [
    {
     "name": "stdout",
     "output_type": "stream",
     "text": [
      "Confidence interval for first Systolic Blood Pressure:(124.59163222328895, 125.57759569746646)\n",
      "Confidence interval for second Systolic Blood Pressure:(124.29482629577244, 125.27120803123749)\n"
     ]
    }
   ],
   "source": [
    "#NOW GETTING BOUNDS\n",
    "LB1,UB1 = sm.stats.DescrStatsW(first).tconfint_mean()\n",
    "LB2,UB2 = sm.stats.DescrStatsW(second).tconfint_mean()\n",
    "a = (LB1,UB1)\n",
    "b = (LB2,UB2)\n",
    "print(\"Confidence interval for first Systolic Blood Pressure:\" + str(a))\n",
    "print(\"Confidence interval for second Systolic Blood Pressure:\" + str(b))"
   ]
  },
  {
   "cell_type": "code",
   "execution_count": 34,
   "metadata": {},
   "outputs": [
    {
     "name": "stdout",
     "output_type": "stream",
     "text": [
      "Confidence interval for the difference between blood pressures of a subject:(0.5399696008802797, 0.8100024609561889)\n"
     ]
    }
   ],
   "source": [
    "#FOR THE DIFFERENCE OF FIRST AND SECOND\n",
    "diff = first - second\n",
    "diff = diff.dropna()\n",
    "LB3,UB3 = sm.stats.DescrStatsW(diff).tconfint_mean()\n",
    "c = (LB3,UB3)\n",
    "print(\"Confidence interval for the difference between blood pressures of a subject:\" + str(c))\n"
   ]
  },
  {
   "cell_type": "code",
   "execution_count": null,
   "metadata": {},
   "outputs": [],
   "source": []
  },
  {
   "cell_type": "markdown",
   "metadata": {},
   "source": [
    "__Q5a.__ Based on these confidence intervals, would you say that a difference of zero between the population mean values of the first and second systolic blood pressure measures is consistent with the data?"
   ]
  },
  {
   "cell_type": "markdown",
   "metadata": {},
   "source": [
    "No, zero is not included in the CI "
   ]
  },
  {
   "cell_type": "markdown",
   "metadata": {},
   "source": [
    "__Q5b.__ Discuss how the width of the confidence interval for the within-subject difference compares to the widths of the confidence intervals for the first and second measures."
   ]
  },
  {
   "cell_type": "markdown",
   "metadata": {},
   "source": [
    "CI for the within-subject difference is considerably SMALL than the confidence intervals for the first and second measures."
   ]
  },
  {
   "cell_type": "markdown",
   "metadata": {},
   "source": [
    "## Question 6\n",
    "\n",
    "Construct a 95% confidence interval for the mean difference between the average age of a smoker, and the average age of a non-smoker."
   ]
  },
  {
   "cell_type": "code",
   "execution_count": 61,
   "metadata": {},
   "outputs": [],
   "source": [
    "da_smoker = da[da.SMQ020==1][\"RIDAGEYR\"]\n",
    "da_nonsmoker = da[da.SMQ020==2][\"RIDAGEYR\"]\n"
   ]
  },
  {
   "cell_type": "code",
   "execution_count": 66,
   "metadata": {},
   "outputs": [
    {
     "name": "stdout",
     "output_type": "stream",
     "text": [
      "count    2319.000000\n",
      "mean       52.096593\n",
      "std        17.461141\n",
      "min        18.000000\n",
      "25%        37.000000\n",
      "50%        54.000000\n",
      "75%        66.000000\n",
      "max        80.000000\n",
      "Name: RIDAGEYR, dtype: float64\n",
      "\n",
      "\n",
      "count    3406.000000\n",
      "mean       45.259836\n",
      "std        18.543286\n",
      "min        18.000000\n",
      "25%        29.000000\n",
      "50%        44.000000\n",
      "75%        60.000000\n",
      "max        80.000000\n",
      "Name: RIDAGEYR, dtype: float64\n"
     ]
    }
   ],
   "source": [
    "print(da_smoker.describe())\n",
    "print(\"\\n\")\n",
    "print(da_nonsmoker.describe())"
   ]
  },
  {
   "cell_type": "code",
   "execution_count": 83,
   "metadata": {},
   "outputs": [
    {
     "name": "stdout",
     "output_type": "stream",
     "text": [
      "Confidence interval is: 5.880797225669984 7.792718324216987\n"
     ]
    }
   ],
   "source": [
    "smoker_age = sm.stats.DescrStatsW(da_smoker)\n",
    "non_smoker_age = sm.stats.DescrStatsW(da_nonsmoker)\n",
    "\n",
    "cm = sm.stats.CompareMeans(smoker_age,non_smoker_age)\n",
    "lower,upper = cm.tconfint_diff(usevar = \"pooled\")   #as we want mean difference and std are almost same so we use pooled approach\n",
    "print(\"Confidence interval is:\",lower,upper)\n",
    "#sm.stats.CompareMeans(smoker_age,non_smoker_age).tconfint_diff(usevar = \"pooled\")"
   ]
  },
  {
   "cell_type": "markdown",
   "metadata": {},
   "source": [
    "__Q6a.__ Use graphical and numerical techniques to compare the variation in the ages of smokers to the variation in the ages of non-smokers.  "
   ]
  },
  {
   "cell_type": "code",
   "execution_count": 77,
   "metadata": {},
   "outputs": [
    {
     "data": {
      "text/plain": [
       "<matplotlib.axes._subplots.AxesSubplot at 0x7f237f616ba8>"
      ]
     },
     "execution_count": 77,
     "metadata": {},
     "output_type": "execute_result"
    },
    {
     "data": {
      "image/png": "[encoded data removed]",
      "text/plain": [
       "<Figure size 432x288 with 1 Axes>"
      ]
     },
     "metadata": {},
     "output_type": "display_data"
    }
   ],
   "source": [
    "sns.boxplot(da_smoker)"
   ]
  },
  {
   "cell_type": "code",
   "execution_count": 79,
   "metadata": {},
   "outputs": [
    {
     "data": {
      "text/plain": [
       "<matplotlib.axes._subplots.AxesSubplot at 0x7f243cdfd160>"
      ]
     },
     "execution_count": 79,
     "metadata": {},
     "output_type": "execute_result"
    },
    {
     "data": {
      "image/png": "[encoded data removed]",
      "text/plain": [
       "<Figure size 432x288 with 1 Axes>"
      ]
     },
     "metadata": {},
     "output_type": "display_data"
    }
   ],
   "source": [
    "sns.boxplot(da_nonsmoker)"
   ]
  },
  {
   "cell_type": "markdown",
   "metadata": {},
   "source": [
    "__Q6b.__ Does it appear that uncertainty about the mean age of smokers, or uncertainty about the mean age of non-smokers contributed more to the uncertainty for the mean difference that we are focusing on here?"
   ]
  },
  {
   "cell_type": "markdown",
   "metadata": {},
   "source": []
  }
 ],
 "metadata": {
  "kernelspec": {
   "display_name": "Python 3",
   "language": "python",
   "name": "python3"
  },
  "language_info": {
   "codemirror_mode": {
    "name": "ipython",
    "version": 3
   },
   "file_extension": ".py",
   "mimetype": "text/x-python",
   "name": "python",
   "nbconvert_exporter": "python",
   "pygments_lexer": "ipython3",
   "version": "3.6.3"
  }
 },
 "nbformat": 4,
 "nbformat_minor": 2
}
