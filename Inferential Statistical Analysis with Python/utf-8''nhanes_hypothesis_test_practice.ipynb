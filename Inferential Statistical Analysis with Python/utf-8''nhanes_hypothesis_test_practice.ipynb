{
 "cells": [
  {
   "cell_type": "markdown",
   "metadata": {},
   "source": [
    "# Practice notebook for hypothesis tests using NHANES data\n",
    "\n",
    "This notebook will give you the opportunity to perform some hypothesis tests with the NHANES data that are similar to\n",
    "what was done in the week 3 case study notebook.\n",
    "\n",
    "You can enter your code into the cells that say \"enter your code here\", and you can type responses to the questions into the cells that say \"Type Markdown and Latex\".\n",
    "\n",
    "Note that most of the code that you will need to write below is very similar to code that appears in the case study notebook.  You will need to edit code from that notebook in small ways to adapt it to the prompts below.\n",
    "\n",
    "To get started, we will use the same module imports and read the data in the same way as we did in the case study:"
   ]
  },
  {
   "cell_type": "code",
   "execution_count": 2,
   "metadata": {},
   "outputs": [],
   "source": [
    "%matplotlib inline\n",
    "import matplotlib.pyplot as plt\n",
    "import seaborn as sns\n",
    "import pandas as pd\n",
    "import statsmodels.api as sm\n",
    "import numpy as np\n",
    "import scipy.stats.distributions as dist\n",
    "\n",
    "da = pd.read_csv(\"nhanes_2015_2016.csv\")"
   ]
  },
  {
   "cell_type": "markdown",
   "metadata": {},
   "source": [
    "## Question 1\n",
    "\n",
    "Conduct a hypothesis test (at the 0.05 level) for the null hypothesis that the proportion of women who smoke is equal to the proportion of men who smoke."
   ]
  },
  {
   "cell_type": "code",
   "execution_count": 3,
   "metadata": {},
   "outputs": [],
   "source": [
    "da[\"RIAGENDRx\"] = da.RIAGENDR.replace({1:\"Male\",2:\"Female\"})\n",
    "da[\"SMQ020x\"] = da.SMQ020.replace({1:\"Yes\",2:\"No\",7:np.nan,9:np.nan})\n"
   ]
  },
  {
   "cell_type": "code",
   "execution_count": 4,
   "metadata": {},
   "outputs": [
    {
     "name": "stdout",
     "output_type": "stream",
     "text": [
      "           Proportion     N\n",
      "RIAGENDRx                  \n",
      "Female       0.304845  2972\n",
      "Male         0.513258  2753\n"
     ]
    }
   ],
   "source": [
    "# insert your code here\n",
    "dx = da[[\"RIAGENDRx\",\"SMQ020x\"]].dropna()\n",
    "pr = dx.groupby(\"RIAGENDRx\")[\"SMQ020x\"].agg([lambda x: np.mean(x==\"Yes\"),\"size\"])\n",
    "pr.columns = [\"Proportion\",\"N\"]\n",
    "print(pr)\n",
    "#Proportion -> proportion of those males/females who smoke"
   ]
  },
  {
   "cell_type": "code",
   "execution_count": 5,
   "metadata": {},
   "outputs": [],
   "source": [
    "n1 = pr.N.Female          #no. of total females(pop grp 1)\n",
    "n2 = pr.N.Male            #no. of total males(pop grp 2)\n",
    "p_hat = (dx.SMQ020x==\"Yes\").mean()   #proportion of all the people who smoke\n",
    "va = p_hat*(1-p_hat)"
   ]
  },
  {
   "cell_type": "code",
   "execution_count": 6,
   "metadata": {},
   "outputs": [
    {
     "name": "stdout",
     "output_type": "stream",
     "text": [
      "-16.049719603652488 5.742288777302776e-58\n"
     ]
    }
   ],
   "source": [
    "import scipy.stats .distributions as dist\n",
    "#Calculating standard error\n",
    "se = np.sqrt(va * (1/n1 + 1/n2))\n",
    "test_Stats = (pr.Proportion.Female-pr.Proportion.Male)/se\n",
    "p_value = 2*dist.norm.cdf(-np.abs(test_Stats))\n",
    "print(test_Stats,p_value)\n"
   ]
  },
  {
   "cell_type": "code",
   "execution_count": 7,
   "metadata": {},
   "outputs": [
    {
     "data": {
      "text/plain": [
       "(-16.42058555898443, 3.032088786691117e-59, 5723.0)"
      ]
     },
     "execution_count": 7,
     "metadata": {},
     "output_type": "execute_result"
    }
   ],
   "source": [
    "#Now via using libraries\n",
    "dx_females = dx.loc[dx.RIAGENDRx==\"Female\", \"SMQ020x\"].replace({\"Yes\": 1, \"No\": 0})\n",
    "dx_males = dx.loc[dx.RIAGENDRx==\"Male\", \"SMQ020x\"].replace({\"Yes\": 1, \"No\": 0})\n",
    "sm.stats.ttest_ind(dx_females, dx_males) # prints test statistic, p-value, degrees of freedom\n"
   ]
  },
  {
   "cell_type": "markdown",
   "metadata": {},
   "source": [
    "__Q1a.__ Write 1-2 sentences explaining the substance of your findings to someone who does not know anything about statistical hypothesis tests."
   ]
  },
  {
   "cell_type": "markdown",
   "metadata": {},
   "source": [
    "The proportion of women who smoke is significantly different than the proportion of men who smoke.Thus, rejecting the Null hypothesis"
   ]
  },
  {
   "cell_type": "markdown",
   "metadata": {},
   "source": [
    "__Q1b.__ Construct three 95% confidence intervals: one for the proportion of women who smoke, one for the proportion of men who smoke, and one for the difference in the rates of smoking between women and men."
   ]
  },
  {
   "cell_type": "code",
   "execution_count": 131,
   "metadata": {},
   "outputs": [
    {
     "name": "stdout",
     "output_type": "stream",
     "text": [
      "Confidence Interval is: (0.2882949879861214, 0.32139545615923526)\n"
     ]
    }
   ],
   "source": [
    "#no. of women who smoke\n",
    "women_smoker = sum(dx_females.values==1)\n",
    "#total women\n",
    "total_women = len(dx_females)\n",
    "lb1,ub1 = sm.stats.proportion_confint(women_smoker,total_women,alpha = 0.05)\n",
    "print(\"Confidence Interval is:\" ,(lb1,ub1))"
   ]
  },
  {
   "cell_type": "code",
   "execution_count": 132,
   "metadata": {},
   "outputs": [
    {
     "name": "stdout",
     "output_type": "stream",
     "text": [
      "Confidence Interval is: (0.49458749263718593, 0.5319290347874418)\n"
     ]
    }
   ],
   "source": [
    "#no. of men who smoke\n",
    "men_smoker = sum(dx_males.values==1)\n",
    "#total men\n",
    "total_men = len(dx_males)\n",
    "lb2,ub2 = sm.stats.proportion_confint(men_smoker,total_men,alpha = 0.05)\n",
    "print(\"Confidence Interval is:\" ,(lb2,ub2))"
   ]
  },
  {
   "cell_type": "code",
   "execution_count": 133,
   "metadata": {},
   "outputs": [
    {
     "name": "stdout",
     "output_type": "stream",
     "text": [
      "-0.20841304163963553 0.012729881381407434\n"
     ]
    }
   ],
   "source": [
    "#For Proportion difference\n",
    "x_d = pr.Proportion.Female - pr.Proportion.Male\n",
    "#for standard error\n",
    "se_female = np.sqrt((pr.Proportion.Female * (1 - pr.Proportion.Female)) / n1)\n",
    "se_male = np.sqrt((pr.Proportion.Male * (1 - pr.Proportion.Male)) / n2)\n",
    "s_d = np.sqrt(se_female**2 + se_male**2)\n",
    "print(x_d,s_d)"
   ]
  },
  {
   "cell_type": "code",
   "execution_count": 134,
   "metadata": {},
   "outputs": [
    {
     "name": "stdout",
     "output_type": "stream",
     "text": [
      "Confidence Interval is: (-0.2333636091471941, -0.18346247413207697)\n"
     ]
    }
   ],
   "source": [
    "#Now finally CI for difference in the rates of smoking between women and men\n",
    "lb3 = x_d - (1.96 * s_d)\n",
    "ub3 = x_d + (1.96 * s_d)\n",
    "print(\"Confidence Interval is:\" ,(lb3,ub3))"
   ]
  },
  {
   "cell_type": "markdown",
   "metadata": {},
   "source": [
    "__Q1c.__ Comment on any ways in which the confidence intervals that you found in part b reinforce, contradict, or add support to the hypothesis test conducted in part a."
   ]
  },
  {
   "cell_type": "markdown",
   "metadata": {},
   "source": [
    "The intervals do not include 0 which supports our rejection of Null hypothesis that proportion of men who smoke is different from proportion of men who smoke"
   ]
  },
  {
   "cell_type": "markdown",
   "metadata": {},
   "source": [
    "## Question 2\n",
    "\n",
    "Partition the population into two groups based on whether a person has graduated college or not, using the educational attainment variable [DMDEDUC2](https://wwwn.cdc.gov/Nchs/Nhanes/2015-2016/DEMO_I.htm#DMDEDUC2).  Then conduct a test of the null hypothesis that the average heights (in centimeters) of the two groups are equal.  Next, convert the heights from centimeters to inches, and conduct a test of the null hypothesis that the average heights (in inches) of the two groups are equal."
   ]
  },
  {
   "cell_type": "code",
   "execution_count": 135,
   "metadata": {},
   "outputs": [
    {
     "data": {
      "text/plain": [
       "(167.85535055350553, 165.46395864106353)"
      ]
     },
     "execution_count": 135,
     "metadata": {},
     "output_type": "execute_result"
    }
   ],
   "source": [
    "# insert your code here\n",
    "dz = da[[\"DMDEDUC2\",\"BMXHT\"]].dropna()\n",
    "dz_graduated = dz[dz[\"DMDEDUC2\"]==5][\"BMXHT\"]\n",
    "dz_notgraduated = dz[dz[\"DMDEDUC2\"]!=5][\"BMXHT\"]\n",
    "mean1 = dz_graduated.mean()\n",
    "mean2 = dz_notgraduated.mean()\n",
    "mean1,mean2"
   ]
  },
  {
   "cell_type": "code",
   "execution_count": 136,
   "metadata": {},
   "outputs": [
    {
     "name": "stdout",
     "output_type": "stream",
     "text": [
      "7.758931901880966 8.564762039636526e-15\n"
     ]
    }
   ],
   "source": [
    "\n",
    "#standard error\n",
    "se_graduate = dz_graduated.std() / np.sqrt(len(dz_graduated))\n",
    "se_notgraduate = dz_notgraduated.std() / np.sqrt(len(dz_notgraduated))\n",
    "se = np.sqrt(se_graduate**2 + se_notgraduate**2)\n",
    "#test_statistic calculation\n",
    "num = mean1 - mean2\n",
    "t = num / se\n",
    "p_value = 2 * dist.norm.cdf(-np.abs(t))\n",
    "print(t,p_value)"
   ]
  },
  {
   "cell_type": "code",
   "execution_count": 137,
   "metadata": {},
   "outputs": [
    {
     "data": {
      "text/plain": [
       "(66.0847836824825, 65.14329080356833)"
      ]
     },
     "execution_count": 137,
     "metadata": {},
     "output_type": "execute_result"
    }
   ],
   "source": [
    "#Next, convert the heights from centimeters to inches, and conduct a test of\n",
    "#the null hypothesis that the average heights (in inches) of the two groups are equal.\n",
    "dz_graduated = dz_graduated / 2.54\n",
    "dz_notgraduated = dz_notgraduated / 2.54\n",
    "mean1 = dz_graduated.mean()\n",
    "mean2 = dz_notgraduated.mean()\n",
    "mean1,mean2"
   ]
  },
  {
   "cell_type": "code",
   "execution_count": 138,
   "metadata": {},
   "outputs": [
    {
     "name": "stdout",
     "output_type": "stream",
     "text": [
      "7.758931901880855 8.56476203964407e-15\n"
     ]
    }
   ],
   "source": [
    "#standard error\n",
    "se_graduate = dz_graduated.std() / np.sqrt(len(dz_graduated))\n",
    "se_notgraduate = dz_notgraduated.std() / np.sqrt(len(dz_notgraduated))\n",
    "se = np.sqrt(se_graduate**2 + se_notgraduate**2)\n",
    "#test_statistic calculation\n",
    "num = mean1 - mean2\n",
    "t = num / se\n",
    "p_value = 2 * dist.norm.cdf(-np.abs(t))\n",
    "print(t,p_value)"
   ]
  },
  {
   "cell_type": "markdown",
   "metadata": {},
   "source": [
    "__Q2a.__ Based on the analysis performed here, are you confident that people who graduated from college have a different average height compared to people who did not graduate from college?"
   ]
  },
  {
   "cell_type": "markdown",
   "metadata": {},
   "source": [
    "As the p_value is small so we can reject the null hypothesis and tell that the two population proportions have different mean heights."
   ]
  },
  {
   "cell_type": "markdown",
   "metadata": {},
   "source": [
    "__Q2b:__ How do the results obtained using the heights expressed in inches compare to the results obtained using the heights expressed in centimeters?"
   ]
  },
  {
   "cell_type": "markdown",
   "metadata": {},
   "source": [
    "They are almost same"
   ]
  },
  {
   "cell_type": "markdown",
   "metadata": {},
   "source": [
    "## Question 3\n",
    "\n",
    "Conduct a hypothesis test of the null hypothesis that the average BMI for men between 30 and 40 is equal to the average BMI for men between 50 and 60.  Then carry out this test again after log transforming the BMI values."
   ]
  },
  {
   "cell_type": "code",
   "execution_count": 139,
   "metadata": {},
   "outputs": [],
   "source": [
    "# insert your code here\n",
    "du = da[da[\"RIAGENDR\"]==1][[\"BMXBMI\",\"RIDAGEYR\"]].dropna()\n"
   ]
  },
  {
   "cell_type": "code",
   "execution_count": 184,
   "metadata": {},
   "outputs": [
    {
     "name": "stdout",
     "output_type": "stream",
     "text": [
      "The test_statistic,p_value and degrees of freedom are-:\n"
     ]
    },
    {
     "data": {
      "text/plain": [
       "(1.3762846931583879, 0.16911717285940686, 803.0)"
      ]
     },
     "execution_count": 184,
     "metadata": {},
     "output_type": "execute_result"
    }
   ],
   "source": [
    "du_3040 = du[(du[\"RIDAGEYR\"] > 30) & (du[\"RIDAGEYR\"] < 40)][\"BMXBMI\"]\n",
    "du_5060 = du[(du[\"RIDAGEYR\"] > 50) & (du[\"RIDAGEYR\"] < 60)][\"BMXBMI\"]\n",
    "#nOW TO TEST NULL HYPOTHESIS\n",
    "print(\"The test_statistic,p_value and degrees of freedom are-:\")\n",
    "sm.stats.ttest_ind(du_3040,du_5060)"
   ]
  },
  {
   "cell_type": "code",
   "execution_count": 185,
   "metadata": {},
   "outputs": [
    {
     "name": "stdout",
     "output_type": "stream",
     "text": [
      "The test_statistic,p_value and degrees of freedom are-:\n"
     ]
    },
    {
     "data": {
      "text/plain": [
       "(1.1090151684665284, 0.267755666336707, 803.0)"
      ]
     },
     "execution_count": 185,
     "metadata": {},
     "output_type": "execute_result"
    }
   ],
   "source": [
    "du_3040 = np.log(du_3040)\n",
    "du_5060 = np.log(du_5060)\n",
    "#nOW TO TEST NULL HYPOTHESIS\n",
    "print(\"The test_statistic,p_value and degrees of freedom are-:\")\n",
    "sm.stats.ttest_ind(du_3040,du_5060)"
   ]
  },
  {
   "cell_type": "markdown",
   "metadata": {},
   "source": [
    "__Q3a.__ How would you characterize the evidence that mean BMI differs between these age bands, and how would you characterize the evidence that mean log BMI differs between these age bands?"
   ]
  },
  {
   "cell_type": "markdown",
   "metadata": {},
   "source": [
    "The mean BMI does not differ in both the cases(as large p_value),therefore we fail to reject the null hypothesis.The p_value is higher after log transformation "
   ]
  },
  {
   "cell_type": "markdown",
   "metadata": {},
   "source": [
    "## Question 4\n",
    "\n",
    "Suppose we wish to compare the mean BMI between college graduates and people who have not graduated from college, focusing on women between the ages of 30 and 40.  First, consider the variance of BMI within each of these subpopulations using graphical techniques, and through the estimated subpopulation variances.  Then, calculate pooled and unpooled estimates of the standard error for the difference between the mean BMI in the two populations being compared.  Finally, test the null hypothesis that the two population means are equal, using each of the two different standard errors."
   ]
  },
  {
   "cell_type": "code",
   "execution_count": 142,
   "metadata": {},
   "outputs": [],
   "source": [
    "# insert your code here\n",
    "dw = da[((da[\"RIDAGEYR\"]>30) & (da[\"RIDAGEYR\"]<40)) & (da[\"RIAGENDR\"]==2)][[\"DMDEDUC2\",\"BMXBMI\"]].dropna()\n"
   ]
  },
  {
   "cell_type": "code",
   "execution_count": 143,
   "metadata": {},
   "outputs": [
    {
     "name": "stdout",
     "output_type": "stream",
     "text": [
      "count    131.000000\n",
      "mean      28.158779\n",
      "std        7.716724\n",
      "min       17.100000\n",
      "25%       22.850000\n",
      "50%       26.500000\n",
      "75%       31.900000\n",
      "max       62.700000\n",
      "Name: BMXBMI, dtype: float64\n",
      "\n",
      "\n",
      "count    288.000000\n",
      "mean      31.467014\n",
      "std        8.511136\n",
      "min       16.600000\n",
      "25%       25.300000\n",
      "50%       29.650000\n",
      "75%       36.000000\n",
      "max       60.900000\n",
      "Name: BMXBMI, dtype: float64\n"
     ]
    }
   ],
   "source": [
    "dw_graduate = dw[dw[\"DMDEDUC2\"]==5][\"BMXBMI\"]\n",
    "dw_notgraduate = dw[dw[\"DMDEDUC2\"]!=5][\"BMXBMI\"]\n",
    "print(dw_graduate.describe())\n",
    "print(\"\\n\")\n",
    "print(dw_notgraduate.describe())"
   ]
  },
  {
   "cell_type": "code",
   "execution_count": 144,
   "metadata": {},
   "outputs": [
    {
     "data": {
      "text/plain": [
       "<matplotlib.axes._subplots.AxesSubplot at 0x7fe348bdd6a0>"
      ]
     },
     "execution_count": 144,
     "metadata": {},
     "output_type": "execute_result"
    },
    {
     "data": {
      "image/png": "[encoded data removed]",
      "text/plain": [
       "<Figure size 432x288 with 1 Axes>"
      ]
     },
     "metadata": {},
     "output_type": "display_data"
    }
   ],
   "source": [
    "#for graduate women visualization\n",
    "sns.boxplot(dw_graduate)"
   ]
  },
  {
   "cell_type": "code",
   "execution_count": 145,
   "metadata": {},
   "outputs": [
    {
     "data": {
      "text/plain": [
       "<matplotlib.axes._subplots.AxesSubplot at 0x7fe348baa748>"
      ]
     },
     "execution_count": 145,
     "metadata": {},
     "output_type": "execute_result"
    },
    {
     "data": {
      "image/png": "[encoded data removed]",
      "text/plain": [
       "<Figure size 432x288 with 1 Axes>"
      ]
     },
     "metadata": {},
     "output_type": "display_data"
    }
   ],
   "source": [
    "#for not graduated women visualization\n",
    "sns.boxplot(dw_notgraduate)"
   ]
  },
  {
   "cell_type": "code",
   "execution_count": 146,
   "metadata": {},
   "outputs": [
    {
     "data": {
      "text/plain": [
       "0.8186033748074519"
      ]
     },
     "execution_count": 146,
     "metadata": {},
     "output_type": "execute_result"
    }
   ],
   "source": [
    "#difference factor in the VARIANCE of these two populations\n",
    "np.std(dw_graduate)**2 / np.std(dw_notgraduate)**2  #we see its not large"
   ]
  },
  {
   "cell_type": "code",
   "execution_count": 147,
   "metadata": {},
   "outputs": [],
   "source": [
    "dw_graduate = sm.stats.DescrStatsW(dw_graduate)\n",
    "dw_notgraduate = sm.stats.DescrStatsW(dw_notgraduate)\n",
    "test_statistic,p_value =  sm.stats.CompareMeans(dw_graduate,dw_notgraduate).ztest_ind(usevar = 'pooled')\n",
    "test_statistic_new,p_value_new = sm.stats.CompareMeans(dw_graduate,dw_notgraduate).ztest_ind(usevar = 'unequal')\n"
   ]
  },
  {
   "cell_type": "code",
   "execution_count": 148,
   "metadata": {},
   "outputs": [
    {
     "name": "stdout",
     "output_type": "stream",
     "text": [
      "Pooled Approach: -3.7951439648523055 0.00014755780808424048\n",
      "Unpooled/Unequal Approach -3.9370103176897366 8.250306098873547e-05\n"
     ]
    }
   ],
   "source": [
    "print(\"Pooled Approach:\",test_statistic,p_value)\n",
    "print(\"Unpooled/Unequal Approach\",test_statistic_new,p_value_new)\n",
    "#both p_values are almost same with little difference"
   ]
  },
  {
   "cell_type": "markdown",
   "metadata": {},
   "source": [
    "__Q4a.__ Comment on the strength of evidence against the null hypothesis that these two populations have equal mean BMI."
   ]
  },
  {
   "cell_type": "markdown",
   "metadata": {},
   "source": [
    "The p_value is well below the threshold(alpha) so we reject the null hypothesis,these 2 population have different mean BMI"
   ]
  },
  {
   "cell_type": "markdown",
   "metadata": {},
   "source": [
    "__Q4b.__ Comment on the degree to which the two populations have different variances, and on the extent to which the results using different approaches to estimating the standard error of the mean difference give divergent results."
   ]
  },
  {
   "cell_type": "markdown",
   "metadata": {},
   "source": [
    "The ratio of these two population variances is approximately 0.8 .The p_value and test_statistic using pooled approach is larger than p_value and test_statistic using unpooled/unequal approach."
   ]
  },
  {
   "cell_type": "markdown",
   "metadata": {},
   "source": [
    "## Question 5\n",
    "\n",
    "Conduct a test of the null hypothesis that the first and second diastolic blood pressure measurements within a subject have the same mean values."
   ]
  },
  {
   "cell_type": "code",
   "execution_count": 149,
   "metadata": {},
   "outputs": [],
   "source": [
    "# insert your code here\n",
    "#THis one is for paired data test\n",
    "dp = da[[\"BPXDI1\",\"BPXDI2\"]].dropna()\n"
   ]
  },
  {
   "cell_type": "code",
   "execution_count": 150,
   "metadata": {},
   "outputs": [
    {
     "name": "stdout",
     "output_type": "stream",
     "text": [
      "The mean is: 0.3490407897187558\n",
      "Test statistic is 4.140387087476751 and P_value is 3.467202439743513e-05\n"
     ]
    }
   ],
   "source": [
    "diff = dp.BPXDI1 - dp.BPXDI2\n",
    "print(\"The mean is:\",diff.mean())\n",
    "test_statistic,p_value = sm.stats.ztest(diff)\n",
    "print(\"Test statistic is \" + str(test_statistic) + \" and P_value is \" + str(p_value))"
   ]
  },
  {
   "cell_type": "markdown",
   "metadata": {},
   "source": [
    "__Q5a.__ Briefly describe your findings for an audience that is not familiar with statistical hypothesis testing."
   ]
  },
  {
   "cell_type": "markdown",
   "metadata": {},
   "source": [
    "There are different mean values between first and second diastolic blood pressure measurements.we reject the null hypothesis."
   ]
  },
  {
   "cell_type": "markdown",
   "metadata": {},
   "source": [
    "__Q5b.__ Pretend that the first and second diastolic blood pressure measurements were taken on different people.  Modfify the analysis above as appropriate for this setting."
   ]
  },
  {
   "cell_type": "code",
   "execution_count": 177,
   "metadata": {},
   "outputs": [],
   "source": [
    "# insert your code here\n",
    "dp_first = da.BPXDI1.dropna()\n",
    "dp_second = da.BPXDI2.dropna()\n"
   ]
  },
  {
   "cell_type": "code",
   "execution_count": 178,
   "metadata": {},
   "outputs": [
    {
     "data": {
      "text/plain": [
       "count    5401.000000\n",
       "mean       69.516386\n",
       "std        12.881575\n",
       "min         0.000000\n",
       "25%        62.000000\n",
       "50%        70.000000\n",
       "75%        78.000000\n",
       "max       120.000000\n",
       "Name: BPXDI1, dtype: float64"
      ]
     },
     "execution_count": 178,
     "metadata": {},
     "output_type": "execute_result"
    }
   ],
   "source": [
    "dp_first.describe()"
   ]
  },
  {
   "cell_type": "code",
   "execution_count": 179,
   "metadata": {},
   "outputs": [
    {
     "data": {
      "text/plain": [
       "count    5535.000000\n",
       "mean       69.346703\n",
       "std        13.022829\n",
       "min         0.000000\n",
       "25%        62.000000\n",
       "50%        70.000000\n",
       "75%        78.000000\n",
       "max       144.000000\n",
       "Name: BPXDI2, dtype: float64"
      ]
     },
     "execution_count": 179,
     "metadata": {},
     "output_type": "execute_result"
    }
   ],
   "source": [
    "dp_second.describe()"
   ]
  },
  {
   "cell_type": "markdown",
   "metadata": {},
   "source": [
    "WE SEE THAT THERE IS NOT MUCH DIFFERENCE IN VARIANCE OF THE TWO POPULATIONS (check for heteroscedasticity)"
   ]
  },
  {
   "cell_type": "code",
   "execution_count": 180,
   "metadata": {},
   "outputs": [],
   "source": [
    "dp_first = sm.stats.DescrStatsW(dp_first)\n",
    "dp_second = sm.stats.DescrStatsW(dp_second)\n"
   ]
  },
  {
   "cell_type": "code",
   "execution_count": 183,
   "metadata": {},
   "outputs": [
    {
     "data": {
      "text/plain": [
       "(0.6848982193746493, 0.49340814971248503)"
      ]
     },
     "execution_count": 183,
     "metadata": {},
     "output_type": "execute_result"
    }
   ],
   "source": [
    "#WE use the pooled approach as variance is little to no different\n",
    "sm.stats.CompareMeans(dp_first,dp_second).ztest_ind(usevar = 'pooled')"
   ]
  },
  {
   "cell_type": "markdown",
   "metadata": {},
   "source": [
    "__Q5c.__ Briefly describe how the approaches used and the results obtained in the preceeding two parts of the question differ."
   ]
  },
  {
   "cell_type": "markdown",
   "metadata": {},
   "source": [
    "When we treated the the 2 measurements in the first part as paired data we get small p_value therefore we reject the null hypothesis but when we treat the 2 measurements as separate populations we get a large p_value,thus failing to reject the null hypothesis. "
   ]
  }
 ],
 "metadata": {
  "kernelspec": {
   "display_name": "Python 3",
   "language": "python",
   "name": "python3"
  },
  "language_info": {
   "codemirror_mode": {
    "name": "ipython",
    "version": 3
   },
   "file_extension": ".py",
   "mimetype": "text/x-python",
   "name": "python",
   "nbconvert_exporter": "python",
   "pygments_lexer": "ipython3",
   "version": "3.6.3"
  }
 },
 "nbformat": 4,
 "nbformat_minor": 2
}
