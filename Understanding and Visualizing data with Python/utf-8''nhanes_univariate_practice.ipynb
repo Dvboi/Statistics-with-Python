{
 "cells": [
  {
   "cell_type": "markdown",
   "metadata": {},
   "source": [
    "# Practice notebook for univariate analysis using NHANES data\n",
    "\n",
    "This notebook will give you the opportunity to perform some univariate analyses on your own using the NHANES.  These analyses are similar to what was done in the week 2 NHANES case study notebook.\n",
    "\n",
    "You can enter your code into the cells that say \"enter your code here\", and you can type responses to the questions into the cells that say \"Type Markdown and Latex\".\n",
    "\n",
    "Note that most of the code that you will need to write below is very similar to code that appears in the case study notebook.  You will need to edit code from that notebook in small ways to adapt it to the prompts below.\n",
    "\n",
    "To get started, we will use the same module imports and read the data in the same way as we did in the case study:"
   ]
  },
  {
   "cell_type": "code",
   "execution_count": 124,
   "metadata": {},
   "outputs": [],
   "source": [
    "%matplotlib inline\n",
    "import matplotlib.pyplot as plt\n",
    "import seaborn as sns\n",
    "import pandas as pd\n",
    "import statsmodels.api as sm\n",
    "import numpy as np\n",
    "\n",
    "da = pd.read_csv(\"nhanes_2015_2016-Copy1.csv\")"
   ]
  },
  {
   "cell_type": "markdown",
   "metadata": {},
   "source": [
    "## Question 1\n",
    "\n",
    "Relabel the marital status variable [DMDMARTL](https://wwwn.cdc.gov/Nchs/Nhanes/2015-2016/DEMO_I.htm#DMDMARTL) to have brief but informative character labels.  Then construct a frequency table of these values for all people, then for women only, and for men only.  Then construct these three frequency tables using only people whose age is between 30 and 40."
   ]
  },
  {
   "cell_type": "code",
   "execution_count": 125,
   "metadata": {},
   "outputs": [
    {
     "name": "stdout",
     "output_type": "stream",
     "text": [
      "Frequency Table for all people\n",
      "Married                2780\n",
      "Never married          1004\n",
      "Divorced                579\n",
      "Living with partner     527\n",
      "Widowed                 396\n",
      "Separated               186\n",
      "Refused                   2\n",
      "Name: DMDMARTLx, dtype: int64\n",
      "Frequency Table for men and women\n",
      "Proportions below - \n",
      "\n",
      "RIAGENDRx  DMDMARTLx          \n",
      "Female     Married                0.238034\n",
      "           Never married          0.094995\n",
      "           Divorced               0.063939\n",
      "           Widowed                0.054074\n",
      "           Living with partner    0.047863\n",
      "           Separated              0.021556\n",
      "           Refused                0.000183\n",
      "Male       Married                0.269821\n",
      "           Never married          0.088418\n",
      "           Living with partner    0.048411\n",
      "           Divorced               0.041834\n",
      "           Widowed                0.018268\n",
      "           Separated              0.012422\n",
      "           Refused                0.000183\n",
      "Name: DMDMARTLx, dtype: float64\n",
      "Frequency Table for all people between ages 30 to 40\n",
      "agegrpx   DMDMARTLx          \n",
      "(30, 40]  Married                516\n",
      "          Never married          186\n",
      "          Living with partner    129\n",
      "          Divorced                67\n",
      "          Separated               29\n",
      "          Widowed                  4\n",
      "          Refused                  1\n",
      "Name: DMDMARTLx, dtype: int64\n",
      "Proportions for men and women betweeen ages 30 to 40 below - \n",
      "\n"
     ]
    },
    {
     "data": {
      "text/plain": [
       "agegrpx   RIAGENDRx  DMDMARTLx          \n",
       "(30, 40]  Female     Married                0.276824\n",
       "                     Never married          0.104077\n",
       "                     Living with partner    0.061159\n",
       "                     Divorced               0.046137\n",
       "                     Separated              0.018240\n",
       "                     Widowed                0.002146\n",
       "          Male       Married                0.276824\n",
       "                     Never married          0.095494\n",
       "                     Living with partner    0.077253\n",
       "                     Divorced               0.025751\n",
       "                     Separated              0.012876\n",
       "                     Widowed                0.002146\n",
       "                     Refused                0.001073\n",
       "Name: DMDMARTLx, dtype: float64"
      ]
     },
     "execution_count": 125,
     "metadata": {},
     "output_type": "execute_result"
    }
   ],
   "source": [
    "# insert your code here\n",
    "da[\"DMDMARTLx\"] = da.DMDMARTL.replace({1:\"Married\",2:\"Widowed\",3:\"Divorced\",4:\"Separated\",5:\"Never married\",\n",
    "                                       6:\"Living with partner\",77:\"Refused\"})\n",
    "all_people = da.DMDMARTLx.value_counts()\n",
    "print(\"Frequency Table for all people\")\n",
    "print(all_people)\n",
    "da[\"RIAGENDRx\"] = da.RIAGENDR.replace({1:\"Male\",2:\"Female\"})\n",
    "men_n_women = da.groupby(\"RIAGENDRx\")[\"DMDMARTLx\"].value_counts()\n",
    "print(\"Frequency Table for men and women\")\n",
    "print(\"Proportions below - \\n\")\n",
    "print(men_n_women/(men_n_women.sum()))\n",
    "#by age\n",
    "da[\"agegrpx\"] = pd.cut(da.RIDAGEYR,[30,40])    #creating stratas\n",
    "all_people = da.groupby(\"agegrpx\")[\"DMDMARTLx\"].value_counts()\n",
    "men_n_women = da.groupby([\"agegrpx\",\"RIAGENDRx\"])[\"DMDMARTLx\"].value_counts()\n",
    "print(\"Frequency Table for all people between ages 30 to 40\")\n",
    "print(all_people)\n",
    "print(\"Proportions for men and women betweeen ages 30 to 40 below - \\n\")\n",
    "men_n_women/(men_n_women.sum())"
   ]
  },
  {
   "cell_type": "markdown",
   "metadata": {},
   "source": [
    "__Q1a.__ Briefly comment on some of the differences that you observe between the distribution of marital status between women and men, for people of all ages."
   ]
  },
  {
   "cell_type": "raw",
   "metadata": {},
   "source": [
    "1 - There are slightly more married males than females and also slightly more females who never married than males(Males are more likely to get married)\n",
    "2 - Unfortunately,Females are more likely to be divorced and separated\n",
    "3 - There are more Females widows than Male widows"
   ]
  },
  {
   "cell_type": "markdown",
   "metadata": {},
   "source": [
    "__Q1b.__ Briefly comment on the differences that you observe between the distribution of marital status states for women between the overall population, and for women between the ages of 30 and 40."
   ]
  },
  {
   "cell_type": "raw",
   "metadata": {},
   "source": [
    "1 - Females between ages 30-40 are slightly more likely to be married than females for overall population\n",
    "2 - They(in age 30 to 40) are more likely to be never married status\n",
    "3 - They are less likely to be divorced,separated or widowed\n",
    "4 - Women between ages of 30-40 have more Live-in's."
   ]
  },
  {
   "cell_type": "markdown",
   "metadata": {},
   "source": [
    "__Q1c.__ Repeat part b for the men."
   ]
  },
  {
   "cell_type": "raw",
   "metadata": {},
   "source": [
    "Slightly more likely to be married,Men between ages 30-40 have more Live-in's,"
   ]
  },
  {
   "cell_type": "markdown",
   "metadata": {},
   "source": [
    "## Question 2\n",
    "\n",
    "Restricting to the female population, stratify the subjects into age bands no wider than ten years, and construct the distribution of marital status within each age band.  Within each age band, present the distribution in terms of proportions that must sum to 1."
   ]
  },
  {
   "cell_type": "code",
   "execution_count": 126,
   "metadata": {},
   "outputs": [
    {
     "data": {
      "text/plain": [
       "agegrpx   RIAGENDRx  DMDMARTLx          \n",
       "(10, 20]  Female     Never married          0.010526\n",
       "                     Living with partner    0.002807\n",
       "                     Married                0.000351\n",
       "(20, 30]  Female     Never married          0.080351\n",
       "                     Married                0.055088\n",
       "                     Living with partner    0.037193\n",
       "                     Divorced               0.003860\n",
       "                     Separated              0.003860\n",
       "(30, 40]  Female     Married                0.090526\n",
       "                     Never married          0.034035\n",
       "                     Living with partner    0.020000\n",
       "                     Divorced               0.015088\n",
       "                     Separated              0.005965\n",
       "                     Widowed                0.000702\n",
       "(40, 50]  Female     Married                0.101053\n",
       "                     Divorced               0.024211\n",
       "                     Never married          0.022105\n",
       "                     Living with partner    0.012982\n",
       "                     Separated              0.011579\n",
       "                     Widowed                0.004211\n",
       "(50, 60]  Female     Married                0.090175\n",
       "                     Divorced               0.029123\n",
       "                     Never married          0.014737\n",
       "                     Living with partner    0.011228\n",
       "                     Widowed                0.009825\n",
       "                     Separated              0.009474\n",
       "                     Refused                0.000351\n",
       "(60, 70]  Female     Married                0.074386\n",
       "                     Divorced               0.029825\n",
       "                     Widowed                0.022807\n",
       "                     Never married          0.013333\n",
       "                     Separated              0.007719\n",
       "                     Living with partner    0.006667\n",
       "(70, 80]  Female     Widowed                0.066316\n",
       "                     Married                0.045614\n",
       "                     Divorced               0.020702\n",
       "                     Never married          0.007368\n",
       "                     Separated              0.002807\n",
       "                     Living with partner    0.001053\n",
       "Name: DMDMARTLx, dtype: float64"
      ]
     },
     "execution_count": 126,
     "metadata": {},
     "output_type": "execute_result"
    }
   ],
   "source": [
    "da[\"agegrpx\"] = pd.cut(da.RIDAGEYR,[10,20,30,40,50,60,70,80])\n",
    "X = da[da[\"RIAGENDRx\"]==\"Female\"]  #restricting to females\n",
    "women = da.groupby([\"agegrpx\",X[\"RIAGENDRx\"]])[\"DMDMARTLx\"].value_counts()\n",
    "women/(women.sum())\n",
    "\n"
   ]
  },
  {
   "cell_type": "markdown",
   "metadata": {},
   "source": [
    "__Q2a.__ Comment on the trends that you see in this series of marginal distributions."
   ]
  },
  {
   "cell_type": "raw",
   "metadata": {},
   "source": [
    "women married rate increases from 10-50 range of ages and then decreases from 50-80\n",
    "women between 20-30 have the largest proportion in live-ins with partner\n",
    "divorce rates also increases with age"
   ]
  },
  {
   "cell_type": "markdown",
   "metadata": {},
   "source": [
    "__Q2b.__ Repeat the construction for males."
   ]
  },
  {
   "cell_type": "code",
   "execution_count": 127,
   "metadata": {},
   "outputs": [
    {
     "data": {
      "text/plain": [
       "agegrpx   RIAGENDRx  DMDMARTLx          \n",
       "(10, 20]  Male       Never married          0.013720\n",
       "                     Living with partner    0.001143\n",
       "                     Married                0.000381\n",
       "(20, 30]  Male       Never married          0.086128\n",
       "                     Married                0.039253\n",
       "                     Living with partner    0.035061\n",
       "                     Separated              0.002668\n",
       "                     Divorced               0.000762\n",
       "                     Widowed                0.000762\n",
       "(30, 40]  Male       Married                0.098323\n",
       "                     Never married          0.033918\n",
       "                     Living with partner    0.027439\n",
       "                     Divorced               0.009146\n",
       "                     Separated              0.004573\n",
       "                     Widowed                0.000762\n",
       "                     Refused                0.000381\n",
       "(40, 50]  Male       Married                0.107470\n",
       "                     Never married          0.014863\n",
       "                     Divorced               0.012957\n",
       "                     Living with partner    0.012576\n",
       "                     Separated              0.004192\n",
       "                     Widowed                0.000762\n",
       "(50, 60]  Male       Married                0.112805\n",
       "                     Divorced               0.021723\n",
       "                     Never married          0.017912\n",
       "                     Living with partner    0.012957\n",
       "                     Separated              0.003811\n",
       "                     Widowed                0.003811\n",
       "(60, 70]  Male       Married                0.110899\n",
       "                     Divorced               0.020960\n",
       "                     Never married          0.014482\n",
       "                     Living with partner    0.008384\n",
       "                     Widowed                0.006479\n",
       "                     Separated              0.005335\n",
       "(70, 80]  Male       Married                0.093750\n",
       "                     Widowed                0.025534\n",
       "                     Divorced               0.021723\n",
       "                     Separated              0.005335\n",
       "                     Living with partner    0.003430\n",
       "                     Never married          0.003430\n",
       "Name: DMDMARTLx, dtype: float64"
      ]
     },
     "execution_count": 127,
     "metadata": {},
     "output_type": "execute_result"
    }
   ],
   "source": [
    "Y = da[da[\"RIAGENDRx\"]==\"Male\"] #restricting to males\n",
    "men = da.groupby([\"agegrpx\",Y[\"RIAGENDRx\"]])[\"DMDMARTLx\"].value_counts()\n",
    "men/(men.sum())\n"
   ]
  },
  {
   "cell_type": "markdown",
   "metadata": {},
   "source": [
    "__Q2c.__ Comment on any notable differences that you see when comparing these results for females and for males."
   ]
  },
  {
   "cell_type": "raw",
   "metadata": {},
   "source": [
    "analyze like above"
   ]
  },
  {
   "cell_type": "markdown",
   "metadata": {},
   "source": [
    "## Question 3\n",
    "\n",
    "Construct a histogram of the distribution of heights using the BMXHT variable in the NHANES sample."
   ]
  },
  {
   "cell_type": "code",
   "execution_count": 128,
   "metadata": {},
   "outputs": [
    {
     "data": {
      "text/plain": [
       "<matplotlib.axes._subplots.AxesSubplot at 0x7f2cfd65fd30>"
      ]
     },
     "execution_count": 128,
     "metadata": {},
     "output_type": "execute_result"
    },
    {
     "data": {
      "image/png": "[encoded data removed]",
      "text/plain": [
       "<Figure size 432x288 with 1 Axes>"
      ]
     },
     "metadata": {},
     "output_type": "display_data"
    }
   ],
   "source": [
    "sns.distplot(da.BMXHT.dropna(),bins = 50)"
   ]
  },
  {
   "cell_type": "markdown",
   "metadata": {},
   "source": [
    "__Q3a.__ Use the `bins` argument to [distplot](https://seaborn.pydata.org/generated/seaborn.distplot.html) to produce histograms with different numbers of bins.  Assess whether the default value for this argument gives a meaningful result, and comment on what happens as the number of bins grows excessively large or excessively small. "
   ]
  },
  {
   "cell_type": "raw",
   "metadata": {},
   "source": [
    "It(default value) is fine.If we increase the number of bins to be excessively large,we will have a histogram with too many individual bins(or a separate bin for every value) and it will hide important patterns and  if number of bins will be excessively small then there will be a single bin which will contain a large range of values and thus will make small but expected fluctuations in data seem important ."
   ]
  },
  {
   "cell_type": "markdown",
   "metadata": {},
   "source": [
    "__Q3b.__ Make separate histograms for the heights of women and men, then make a side-by-side boxplot showing the heights of women and men."
   ]
  },
  {
   "cell_type": "code",
   "execution_count": 129,
   "metadata": {},
   "outputs": [
    {
     "data": {
      "text/plain": [
       "<matplotlib.axes._subplots.AxesSubplot at 0x7f2cffbe5940>"
      ]
     },
     "execution_count": 129,
     "metadata": {},
     "output_type": "execute_result"
    },
    {
     "data": {
      "image/png": "[encoded data removed]",
      "text/plain": [
       "<Figure size 432x288 with 1 Axes>"
      ]
     },
     "metadata": {},
     "output_type": "display_data"
    }
   ],
   "source": [
    "sns.distplot(da.groupby(\"RIAGENDR\")[\"BMXHT\"].value_counts())    #we didn't use RIAGENDRx AS IT HAS 1 AS MALE AND 2 AS FEMALE AND CHARACTER CANT BE PLOTTED ON X AXIS\n",
    "\n",
    "sns.boxplot(x = \"RIAGENDRx\" ,y = \"BMXHT\",hue = \"RIAGENDRx\",data = da)\n"
   ]
  },
  {
   "cell_type": "markdown",
   "metadata": {},
   "source": [
    "__Q3c.__ Comment on what features, if any are not represented clearly in the boxplots, and what features, if any, are easier to see in the boxplots than in the histograms."
   ]
  },
  {
   "cell_type": "raw",
   "metadata": {},
   "source": [
    "we cannot see the distribution of the data but we can see male have a larger median height than women and male have more far away outliers which means that males have the longest height."
   ]
  },
  {
   "cell_type": "markdown",
   "metadata": {},
   "source": [
    "## Question 4\n",
    "\n",
    "Make a boxplot showing the distribution of within-subject differences between the first and second systolic blood pressure measurents ([BPXSY1](https://wwwn.cdc.gov/Nchs/Nhanes/2015-2016/BPX_I.htm#BPXSY1) and [BPXSY2](https://wwwn.cdc.gov/Nchs/Nhanes/2015-2016/BPX_I.htm#BPXSY2))."
   ]
  },
  {
   "cell_type": "code",
   "execution_count": null,
   "metadata": {},
   "outputs": [],
   "source": [
    "#can't understand the question"
   ]
  },
  {
   "cell_type": "markdown",
   "metadata": {},
   "source": [
    "__Q4a.__ What proportion of the subjects have a lower SBP on the second reading compared to the first?"
   ]
  },
  {
   "cell_type": "code",
   "execution_count": null,
   "metadata": {},
   "outputs": [],
   "source": []
  },
  {
   "cell_type": "markdown",
   "metadata": {},
   "source": [
    "__Q4b.__ Make side-by-side boxplots of the two systolic blood pressure variables."
   ]
  },
  {
   "cell_type": "code",
   "execution_count": 130,
   "metadata": {},
   "outputs": [
    {
     "data": {
      "text/plain": [
       "<matplotlib.axes._subplots.AxesSubplot at 0x7f2cfab278d0>"
      ]
     },
     "execution_count": 130,
     "metadata": {},
     "output_type": "execute_result"
    },
    {
     "data": {
      "image/png": "[encoded data removed]",
      "text/plain": [
       "<Figure size 432x288 with 1 Axes>"
      ]
     },
     "metadata": {},
     "output_type": "display_data"
    }
   ],
   "source": [
    "sns.boxplot(x = \"RIAGENDRx\",y = \"BPXSY2\",data = da)\n",
    "sns.boxplot(x = \"RIAGENDRx\",y = \"BPXSY1\",data = da)"
   ]
  },
  {
   "cell_type": "markdown",
   "metadata": {},
   "source": [
    "__Q4c.__ Comment on the variation within either the first or second systolic blood pressure measurements, and the variation in the within-subject differences between the first and second systolic blood pressure measurements."
   ]
  },
  {
   "cell_type": "raw",
   "metadata": {},
   "source": []
  },
  {
   "cell_type": "markdown",
   "metadata": {},
   "source": [
    "## Question 5\n",
    "\n",
    "Construct a frequency table of household sizes for people within each educational attainment category (the relevant variable is [DMDEDUC2](https://wwwn.cdc.gov/Nchs/Nhanes/2015-2016/DEMO_I.htm#DMDEDUC2)).  Convert the frequencies to proportions."
   ]
  },
  {
   "cell_type": "code",
   "execution_count": 131,
   "metadata": {},
   "outputs": [
    {
     "data": {
      "text/plain": [
       "4.0    0.296127\n",
       "5.0    0.249543\n",
       "3.0    0.216661\n",
       "1.0    0.119657\n",
       "2.0    0.117464\n",
       "9.0    0.000548\n",
       "Name: DMDEDUC2, dtype: float64"
      ]
     },
     "execution_count": 131,
     "metadata": {},
     "output_type": "execute_result"
    }
   ],
   "source": [
    "da.DMDEDUC2.value_counts()\n",
    "x = da.DMDEDUC2.value_counts()\n",
    "x/x.sum()\n"
   ]
  },
  {
   "cell_type": "markdown",
   "metadata": {},
   "source": [
    "__Q5a.__ Comment on any major differences among the distributions."
   ]
  },
  {
   "cell_type": "raw",
   "metadata": {},
   "source": [
    "#Observe the table"
   ]
  },
  {
   "cell_type": "markdown",
   "metadata": {},
   "source": [
    "__Q5b.__ Restrict the sample to people between 30 and 40 years of age.  Then calculate the median household size for women and men within each level of educational attainment."
   ]
  },
  {
   "cell_type": "code",
   "execution_count": 140,
   "metadata": {},
   "outputs": [
    {
     "data": {
      "text/plain": [
       "91.0"
      ]
     },
     "execution_count": 140,
     "metadata": {},
     "output_type": "execute_result"
    }
   ],
   "source": [
    "da[\"agegrpx\"] = pd.cut(da.RIDAGEYR,[30,40])\n",
    "x = da.groupby(\"agegrpx\")[\"DMDEDUC2\"].value_counts()\n",
    "da[\"DMDEDUC2x\"] = da.DMDEDUC2.replace({1: \"<9\", 2: \"9-11\", 3: \"HS/GED\", 4: \"Some college/AA\", 5: \"College\", \n",
    "                                       7: \"Refused\", 9: \"Don't know\"})\n",
    "y = da.groupby([\"agegrpx\",\"RIAGENDRx\"])[\"DMDEDUC2x\"].value_counts()\n",
    "y.median()"
   ]
  },
  {
   "cell_type": "markdown",
   "metadata": {},
   "source": [
    "## Question 6\n",
    "\n",
    "The participants can be clustered into \"maked variance units\" (MVU) based on every combination of the variables [SDMVSTRA](https://wwwn.cdc.gov/Nchs/Nhanes/2015-2016/DEMO_I.htm#SDMVSTRA) and [SDMVPSU](https://wwwn.cdc.gov/Nchs/Nhanes/2015-2016/DEMO_I.htm#SDMVPSU).  Calculate the mean age ([RIDAGEYR](https://wwwn.cdc.gov/Nchs/Nhanes/2015-2016/DEMO_I.htm#RIDAGEYR)), height ([BMXHT](https://wwwn.cdc.gov/Nchs/Nhanes/2015-2016/BMX_I.htm#BMXHT)), and BMI ([BMXBMI](https://wwwn.cdc.gov/Nchs/Nhanes/2015-2016/BMX_I.htm#BMXBMI)) for each gender ([RIAGENDR](https://wwwn.cdc.gov/Nchs/Nhanes/2015-2016/DEMO_I.htm#RIAGENDR)), within each MVU, and report the ratio between the largest and smallest mean (e.g. for height) across the MVUs."
   ]
  },
  {
   "cell_type": "code",
   "execution_count": 147,
   "metadata": {},
   "outputs": [
    {
     "data": {
      "text/plain": [
       "RIAGENDRx\n",
       "Female    29.939946\n",
       "Male      28.778072\n",
       "Name: BMXBMI, dtype: float64"
      ]
     },
     "execution_count": 147,
     "metadata": {},
     "output_type": "execute_result"
    }
   ],
   "source": [
    "# insert your code here\n",
    "da.groupby(\"RIAGENDRx\")[\"RIDAGEYR\"].mean()\n",
    "da.groupby(\"RIAGENDRx\")[\"BMXHT\"].mean()\n",
    "da.groupby(\"RIAGENDRx\")[\"BMXBMI\"].mean()\n",
    "#(these are not for MVU's)"
   ]
  },
  {
   "cell_type": "markdown",
   "metadata": {},
   "source": [
    "__Q6a.__ Comment on the extent to which mean age, height, and BMI vary among the MVUs."
   ]
  },
  {
   "cell_type": "raw",
   "metadata": {},
   "source": []
  },
  {
   "cell_type": "markdown",
   "metadata": {},
   "source": [
    "__Q6b.__ Calculate the inter-quartile range (IQR) for age, height, and BMI for each gender and each MVU.  Report the ratio between the largest and smalles IQR across the MVUs."
   ]
  },
  {
   "cell_type": "code",
   "execution_count": 149,
   "metadata": {},
   "outputs": [
    {
     "data": {
      "text/html": [
       "<div>\n",
       "<style scoped>\n",
       "    .dataframe tbody tr th:only-of-type {\n",
       "        vertical-align: middle;\n",
       "    }\n",
       "\n",
       "    .dataframe tbody tr th {\n",
       "        vertical-align: top;\n",
       "    }\n",
       "\n",
       "    .dataframe thead th {\n",
       "        text-align: right;\n",
       "    }\n",
       "</style>\n",
       "<table border=\"1\" class=\"dataframe\">\n",
       "  <thead>\n",
       "    <tr style=\"text-align: right;\">\n",
       "      <th></th>\n",
       "      <th>count</th>\n",
       "      <th>mean</th>\n",
       "      <th>std</th>\n",
       "      <th>min</th>\n",
       "      <th>25%</th>\n",
       "      <th>50%</th>\n",
       "      <th>75%</th>\n",
       "      <th>max</th>\n",
       "    </tr>\n",
       "    <tr>\n",
       "      <th>RIAGENDRx</th>\n",
       "      <th></th>\n",
       "      <th></th>\n",
       "      <th></th>\n",
       "      <th></th>\n",
       "      <th></th>\n",
       "      <th></th>\n",
       "      <th></th>\n",
       "      <th></th>\n",
       "    </tr>\n",
       "  </thead>\n",
       "  <tbody>\n",
       "    <tr>\n",
       "      <th>Female</th>\n",
       "      <td>2976.0</td>\n",
       "      <td>47.793011</td>\n",
       "      <td>18.299419</td>\n",
       "      <td>18.0</td>\n",
       "      <td>32.0</td>\n",
       "      <td>47.0</td>\n",
       "      <td>62.0</td>\n",
       "      <td>80.0</td>\n",
       "    </tr>\n",
       "    <tr>\n",
       "      <th>Male</th>\n",
       "      <td>2759.0</td>\n",
       "      <td>48.332004</td>\n",
       "      <td>18.571168</td>\n",
       "      <td>18.0</td>\n",
       "      <td>32.0</td>\n",
       "      <td>48.0</td>\n",
       "      <td>63.0</td>\n",
       "      <td>80.0</td>\n",
       "    </tr>\n",
       "  </tbody>\n",
       "</table>\n",
       "</div>"
      ],
      "text/plain": [
       "            count       mean        std   min   25%   50%   75%   max\n",
       "RIAGENDRx                                                            \n",
       "Female     2976.0  47.793011  18.299419  18.0  32.0  47.0  62.0  80.0\n",
       "Male       2759.0  48.332004  18.571168  18.0  32.0  48.0  63.0  80.0"
      ]
     },
     "execution_count": 149,
     "metadata": {},
     "output_type": "execute_result"
    }
   ],
   "source": [
    "da.groupby(\"RIAGENDRx\")[\"RIDAGEYR\"].describe()    #do it similarly for other values(these are not for MVU's)"
   ]
  },
  {
   "cell_type": "markdown",
   "metadata": {},
   "source": [
    "__Q6c.__ Comment on the extent to which the IQR for age, height, and BMI vary among the MVUs."
   ]
  },
  {
   "cell_type": "raw",
   "metadata": {},
   "source": []
  }
 ],
 "metadata": {
  "kernelspec": {
   "display_name": "Python 3",
   "language": "python",
   "name": "python3"
  },
  "language_info": {
   "codemirror_mode": {
    "name": "ipython",
    "version": 3
   },
   "file_extension": ".py",
   "mimetype": "text/x-python",
   "name": "python",
   "nbconvert_exporter": "python",
   "pygments_lexer": "ipython3",
   "version": "3.6.3"
  }
 },
 "nbformat": 4,
 "nbformat_minor": 2
}
