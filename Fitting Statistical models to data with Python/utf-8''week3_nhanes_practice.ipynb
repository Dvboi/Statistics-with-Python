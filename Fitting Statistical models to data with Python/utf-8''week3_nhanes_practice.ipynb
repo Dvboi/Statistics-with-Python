{
 "cells": [
  {
   "cell_type": "markdown",
   "metadata": {},
   "source": [
    "# Practice notebook for regression analysis with dependent data in NHANES\n",
    "\n",
    "This notebook will give you the opportunity to perform some analyses\n",
    "using the regression methods for dependent data that we are focusing\n",
    "on in this week of the course.\n",
    "\n",
    "Enter the code in response to each question in the boxes labeled \"enter your code here\".\n",
    "Then enter your responses to the questions in the boxes labeled \"Type\n",
    "Markdown and Latex\".\n",
    "\n",
    "This notebook is based on the NHANES case study notebook for\n",
    "regression with dependent data.  Most of the code that you will need\n",
    "to write below is very similar to code that appears in the case study\n",
    "notebook.  You will need to edit code from that notebook in small ways\n",
    "to adapt it to the prompts below.\n",
    "\n",
    "To get started, we will use the same module imports and read the data\n",
    "in the same way as we did in the case study:"
   ]
  },
  {
   "cell_type": "code",
   "execution_count": 100,
   "metadata": {},
   "outputs": [],
   "source": [
    "%matplotlib inline\n",
    "import matplotlib.pyplot as plt\n",
    "import seaborn as sns\n",
    "import pandas as pd\n",
    "import statsmodels.api as sm\n",
    "import numpy as np\n",
    "\n",
    "url = \"nhanes_2015_2016.csv\"\n",
    "da = pd.read_csv(url)\n",
    "\n",
    "# Drop unused columns, drop rows with any missing values.\n",
    "da[\"DMDEDUC2\"] = da.DMDEDUC2.replace({1: \"lt9\", 2: \"x9_11\", 3: \"HS\", 4: \"SomeCollege\",\n",
    "                                      5: \"College\", 7: np.nan, 9: np.nan})\n",
    "vars = [\"BPXSY1\", \"RIDAGEYR\", \"RIAGENDR\", \"RIDRETH1\", \"DMDEDUC2\", \"BMXBMI\",\"BPXDI1\",\n",
    "        \"SMQ020\", \"SDMVSTRA\", \"SDMVPSU\"]\n",
    "da = da[vars].dropna()\n",
    "\n",
    "# This is the grouping variable\n",
    "da[\"group\"] = 10*da.SDMVSTRA + da.SDMVPSU"
   ]
  },
  {
   "cell_type": "markdown",
   "metadata": {},
   "source": [
    "## Question 1: \n",
    "\n",
    "Build a marginal linear model using GEE for the first measurement of diastolic blood pressure (`BPXDI1`), accounting for the grouping variable defined above.  This initial model should have no covariates, and will be used to assess the ICC of this blood pressure measure."
   ]
  },
  {
   "cell_type": "code",
   "execution_count": 101,
   "metadata": {},
   "outputs": [
    {
     "data": {
      "text/plain": [
       "'The correlation between two observations in the same cluster is 0.031'"
      ]
     },
     "execution_count": 101,
     "metadata": {},
     "output_type": "execute_result"
    }
   ],
   "source": [
    "# enter your code here\n",
    "model = sm.GEE.from_formula(\"BPXDI1 ~ 1\",groups = \"group\",cov_struct = sm.cov_struct.Exchangeable(),data = da)\n",
    "result = model.fit()\n",
    "result.cov_struct.summary()\n"
   ]
  },
  {
   "cell_type": "code",
   "execution_count": 102,
   "metadata": {},
   "outputs": [
    {
     "data": {
      "text/plain": [
       "'The correlation between two observations in the same cluster is 0.030'"
      ]
     },
     "execution_count": 102,
     "metadata": {},
     "output_type": "execute_result"
    }
   ],
   "source": [
    "#icc for systolic blood pressure\n",
    "model = sm.GEE.from_formula(\"BPXSY1 ~ 1\",groups = \"group\",cov_struct = sm.cov_struct.Exchangeable(),data = da)\n",
    "result = model.fit()\n",
    "result.cov_struct.summary()"
   ]
  },
  {
   "cell_type": "markdown",
   "metadata": {},
   "source": [
    "__Q1a.__ What is the ICC for diastolic blood pressure?  What can you\n",
    "  conclude by comparing it to the ICC for systolic blood pressure?"
   ]
  },
  {
   "cell_type": "markdown",
   "metadata": {},
   "source": [
    "It is 0.031.ICC for diastolic blood pressure is less than systolic blood pressure"
   ]
  },
  {
   "cell_type": "markdown",
   "metadata": {},
   "source": [
    "## Question 2: \n",
    "\n",
    "Take your model from question 1, and add gender, age, and BMI to it as covariates."
   ]
  },
  {
   "cell_type": "code",
   "execution_count": 103,
   "metadata": {},
   "outputs": [],
   "source": [
    "da[\"RIAGENDRx\"] = da.RIAGENDR.replace({1:\"Male\",2:\"Female\"})"
   ]
  },
  {
   "cell_type": "code",
   "execution_count": 104,
   "metadata": {},
   "outputs": [
    {
     "data": {
      "text/plain": [
       "'The correlation between two observations in the same cluster is 0.030'"
      ]
     },
     "execution_count": 104,
     "metadata": {},
     "output_type": "execute_result"
    }
   ],
   "source": [
    "# enter your code here\n",
    "model = sm.GEE.from_formula(\"BPXDI1 ~ RIAGENDRx + RIDAGEYR + BMXBMI\",cov_struct = sm.cov_struct.Exchangeable(),groups = \"group\",\n",
    "                           data = da)\n",
    "result = model.fit()\n",
    "result.cov_struct.summary()"
   ]
  },
  {
   "cell_type": "markdown",
   "metadata": {},
   "source": [
    "__Q2a.__ What is the ICC for this model?  What can you conclude by comparing it to the ICC for the model that you fit in question 1?"
   ]
  },
  {
   "cell_type": "markdown",
   "metadata": {},
   "source": [
    "It is 0.30.The previous model ICC has slightly higher intra-class correlation which means that observations inside clusters has higher correlation in the previous model than this new model"
   ]
  },
  {
   "cell_type": "markdown",
   "metadata": {},
   "source": [
    "## Question 3: \n",
    "\n",
    "Split the data into separate datasets for females and for males and fit two separate marginal linear models for diastolic blood pressure, one only for females, and one only for males."
   ]
  },
  {
   "cell_type": "code",
   "execution_count": 105,
   "metadata": {},
   "outputs": [],
   "source": [
    "#Creating datasets\n",
    "#for males\n",
    "da_males = da[da[\"RIAGENDRx\"]==\"Male\"]\n",
    "#for females\n",
    "da_females = da[da[\"RIAGENDRx\"]==\"Female\"]\n"
   ]
  },
  {
   "cell_type": "code",
   "execution_count": 106,
   "metadata": {},
   "outputs": [
    {
     "data": {
      "text/plain": [
       "'The correlation between two observations in the same cluster is 0.035'"
      ]
     },
     "execution_count": 106,
     "metadata": {},
     "output_type": "execute_result"
    }
   ],
   "source": [
    "#model for males\n",
    "model1 = sm.GEE.from_formula(\"BPXDI1 ~ 1\",groups = \"group\",\n",
    "                            cov_struct = sm.cov_struct.Exchangeable(),data = da_males)\n",
    "result_m = model1.fit()\n",
    "result_m.cov_struct.summary()"
   ]
  },
  {
   "cell_type": "code",
   "execution_count": 107,
   "metadata": {},
   "outputs": [
    {
     "data": {
      "text/plain": [
       "'The correlation between two observations in the same cluster is 0.029'"
      ]
     },
     "execution_count": 107,
     "metadata": {},
     "output_type": "execute_result"
    }
   ],
   "source": [
    "#model for females\n",
    "model2 = sm.GEE.from_formula(\"BPXDI1 ~ 1\",groups = \"group\",\n",
    "                            cov_struct = sm.cov_struct.Exchangeable(),data = da_females)\n",
    "result_fm = model2.fit()\n",
    "result_fm.cov_struct.summary()"
   ]
  },
  {
   "cell_type": "code",
   "execution_count": 96,
   "metadata": {},
   "outputs": [],
   "source": [
    "# table = pd.DataFrame({\"male_params\":result_m.params,\"males_se\":result_m.bse,\n",
    "#                      \"female_params\":result_fm.params,\"females_se\":result_fm.bse})\n",
    "# table"
   ]
  },
  {
   "cell_type": "markdown",
   "metadata": {},
   "source": [
    "__Q3a.__ What do you learn by comparing these two fitted models?"
   ]
  },
  {
   "cell_type": "markdown",
   "metadata": {},
   "source": [
    "male model has higher intra class correlation than female model."
   ]
  },
  {
   "cell_type": "markdown",
   "metadata": {},
   "source": [
    "## Question 4: \n",
    "\n",
    "Using the entire data set, fit a multilevel model for diastolic blood pressure, predicted by age, gender, BMI, and educational attainment.  Include a random intercept for groups."
   ]
  },
  {
   "cell_type": "code",
   "execution_count": 97,
   "metadata": {},
   "outputs": [
    {
     "data": {
      "text/html": [
       "<table class=\"simpletable\">\n",
       "<tr>\n",
       "       <td>Model:</td>       <td>MixedLM</td> <td>Dependent Variable:</td>   <td>BPXDI1</td>   \n",
       "</tr>\n",
       "<tr>\n",
       "  <td>No. Observations:</td>  <td>5100</td>         <td>Method:</td>          <td>REML</td>    \n",
       "</tr>\n",
       "<tr>\n",
       "     <td>No. Groups:</td>      <td>30</td>          <td>Scale:</td>         <td>154.2352</td>  \n",
       "</tr>\n",
       "<tr>\n",
       "  <td>Min. group size:</td>    <td>105</td>       <td>Likelihood:</td>     <td>-20111.9561</td>\n",
       "</tr>\n",
       "<tr>\n",
       "  <td>Max. group size:</td>    <td>226</td>       <td>Converged:</td>          <td>Yes</td>    \n",
       "</tr>\n",
       "<tr>\n",
       "  <td>Mean group size:</td>   <td>170.0</td>           <td></td>                <td></td>      \n",
       "</tr>\n",
       "</table>\n",
       "<table class=\"simpletable\">\n",
       "<tr>\n",
       "               <td></td>               <th>Coef.</th> <th>Std.Err.</th>    <th>z</th>   <th>P>|z|</th> <th>[0.025</th> <th>0.975]</th>\n",
       "</tr>\n",
       "<tr>\n",
       "  <th>Intercept</th>                  <td>65.646</td>   <td>1.032</td>  <td>63.631</td> <td>0.000</td> <td>63.624</td> <td>67.668</td>\n",
       "</tr>\n",
       "<tr>\n",
       "  <th>RIAGENDRx[T.Male]</th>           <td>2.755</td>   <td>0.351</td>   <td>7.855</td> <td>0.000</td>  <td>2.068</td>  <td>3.443</td>\n",
       "</tr>\n",
       "<tr>\n",
       "  <th>C(DMDEDUC2)[T.HS]</th>          <td>-1.093</td>   <td>0.521</td>  <td>-2.098</td> <td>0.036</td> <td>-2.115</td> <td>-0.072</td>\n",
       "</tr>\n",
       "<tr>\n",
       "  <th>C(DMDEDUC2)[T.SomeCollege]</th> <td>-0.428</td>   <td>0.484</td>  <td>-0.883</td> <td>0.377</td> <td>-1.377</td>  <td>0.521</td>\n",
       "</tr>\n",
       "<tr>\n",
       "  <th>C(DMDEDUC2)[T.lt9]</th>         <td>-0.955</td>   <td>0.641</td>  <td>-1.488</td> <td>0.137</td> <td>-2.212</td>  <td>0.303</td>\n",
       "</tr>\n",
       "<tr>\n",
       "  <th>C(DMDEDUC2)[T.x9_11]</th>       <td>-0.219</td>   <td>0.630</td>  <td>-0.347</td> <td>0.729</td> <td>-1.454</td>  <td>1.016</td>\n",
       "</tr>\n",
       "<tr>\n",
       "  <th>RIDAGEYR</th>                   <td>-0.039</td>   <td>0.010</td>  <td>-3.871</td> <td>0.000</td> <td>-0.059</td> <td>-0.019</td>\n",
       "</tr>\n",
       "<tr>\n",
       "  <th>BMXBMI</th>                      <td>0.186</td>   <td>0.026</td>   <td>7.283</td> <td>0.000</td>  <td>0.136</td>  <td>0.236</td>\n",
       "</tr>\n",
       "<tr>\n",
       "  <th>group Var</th>                   <td>4.170</td>   <td>0.108</td>     <td></td>      <td></td>       <td></td>       <td></td>   \n",
       "</tr>\n",
       "</table>"
      ],
      "text/plain": [
       "<class 'statsmodels.iolib.summary2.Summary'>\n",
       "\"\"\"\n",
       "                Mixed Linear Model Regression Results\n",
       "=====================================================================\n",
       "Model:                MixedLM     Dependent Variable:     BPXDI1     \n",
       "No. Observations:     5100        Method:                 REML       \n",
       "No. Groups:           30          Scale:                  154.2352   \n",
       "Min. group size:      105         Likelihood:             -20111.9561\n",
       "Max. group size:      226         Converged:              Yes        \n",
       "Mean group size:      170.0                                          \n",
       "---------------------------------------------------------------------\n",
       "                           Coef.  Std.Err.   z    P>|z| [0.025 0.975]\n",
       "---------------------------------------------------------------------\n",
       "Intercept                  65.646    1.032 63.631 0.000 63.624 67.668\n",
       "RIAGENDRx[T.Male]           2.755    0.351  7.855 0.000  2.068  3.443\n",
       "C(DMDEDUC2)[T.HS]          -1.093    0.521 -2.098 0.036 -2.115 -0.072\n",
       "C(DMDEDUC2)[T.SomeCollege] -0.428    0.484 -0.883 0.377 -1.377  0.521\n",
       "C(DMDEDUC2)[T.lt9]         -0.955    0.641 -1.488 0.137 -2.212  0.303\n",
       "C(DMDEDUC2)[T.x9_11]       -0.219    0.630 -0.347 0.729 -1.454  1.016\n",
       "RIDAGEYR                   -0.039    0.010 -3.871 0.000 -0.059 -0.019\n",
       "BMXBMI                      0.186    0.026  7.283 0.000  0.136  0.236\n",
       "group Var                   4.170    0.108                           \n",
       "=====================================================================\n",
       "\n",
       "\"\"\""
      ]
     },
     "execution_count": 97,
     "metadata": {},
     "output_type": "execute_result"
    }
   ],
   "source": [
    "# THIS CODE TAKES A LOT OF TIME IN EXECUTION,BEWARE!!!\n",
    "\n",
    "model = sm.MixedLM.from_formula(\"BPXDI1 ~ RIDAGEYR + RIAGENDRx + BMXBMI + C(DMDEDUC2)\",\n",
    "                                groups=\"group\", data=da)\n",
    "result = model.fit()\n",
    "result.summary()\n"
   ]
  },
  {
   "cell_type": "markdown",
   "metadata": {},
   "source": [
    "__Q4a.__ How would you describe the strength of the clustering in this analysis?"
   ]
  },
  {
   "cell_type": "code",
   "execution_count": 109,
   "metadata": {},
   "outputs": [
    {
     "data": {
      "text/plain": [
       "0.027035788381742736"
      ]
     },
     "execution_count": 109,
     "metadata": {},
     "output_type": "execute_result"
    }
   ],
   "source": [
    "ICC = 4.170 / 154.24                   #Scale is 154.24 from above table\n",
    "ICC "
   ]
  },
  {
   "cell_type": "markdown",
   "metadata": {},
   "source": [
    "Icc is small but not negligible so there is significat intra class correlation  "
   ]
  },
  {
   "cell_type": "code",
   "execution_count": 108,
   "metadata": {},
   "outputs": [
    {
     "name": "stderr",
     "output_type": "stream",
     "text": [
      "/opt/conda/lib/python3.6/site-packages/statsmodels/regression/mixed_linear_model.py:2045: ConvergenceWarning: The MLE may be on the boundary of the parameter space.\n",
      "  warnings.warn(msg, ConvergenceWarning)\n"
     ]
    },
    {
     "data": {
      "text/html": [
       "<table class=\"simpletable\">\n",
       "<tr>\n",
       "       <td>Model:</td>       <td>MixedLM</td> <td>Dependent Variable:</td>   <td>BPXDI1</td>   \n",
       "</tr>\n",
       "<tr>\n",
       "  <td>No. Observations:</td>  <td>5100</td>         <td>Method:</td>          <td>REML</td>    \n",
       "</tr>\n",
       "<tr>\n",
       "     <td>No. Groups:</td>      <td>30</td>          <td>Scale:</td>         <td>154.2636</td>  \n",
       "</tr>\n",
       "<tr>\n",
       "  <td>Min. group size:</td>    <td>105</td>       <td>Likelihood:</td>     <td>-20112.4351</td>\n",
       "</tr>\n",
       "<tr>\n",
       "  <td>Max. group size:</td>    <td>226</td>       <td>Converged:</td>          <td>Yes</td>    \n",
       "</tr>\n",
       "<tr>\n",
       "  <td>Mean group size:</td>   <td>170.0</td>           <td></td>                <td></td>      \n",
       "</tr>\n",
       "</table>\n",
       "<table class=\"simpletable\">\n",
       "<tr>\n",
       "               <td></td>               <th>Coef.</th> <th>Std.Err.</th>    <th>z</th>   <th>P>|z|</th> <th>[0.025</th> <th>0.975]</th>\n",
       "</tr>\n",
       "<tr>\n",
       "  <th>Intercept</th>                  <td>65.444</td>   <td>0.962</td>  <td>68.054</td> <td>0.000</td> <td>63.559</td> <td>67.328</td>\n",
       "</tr>\n",
       "<tr>\n",
       "  <th>RIAGENDRx[T.Male]</th>           <td>2.729</td>   <td>0.351</td>   <td>7.780</td> <td>0.000</td>  <td>2.041</td>  <td>3.416</td>\n",
       "</tr>\n",
       "<tr>\n",
       "  <th>C(DMDEDUC2)[T.HS]</th>          <td>-1.091</td>   <td>0.520</td>  <td>-2.100</td> <td>0.036</td> <td>-2.110</td> <td>-0.073</td>\n",
       "</tr>\n",
       "<tr>\n",
       "  <th>C(DMDEDUC2)[T.SomeCollege]</th> <td>-0.445</td>   <td>0.483</td>  <td>-0.922</td> <td>0.357</td> <td>-1.391</td>  <td>0.501</td>\n",
       "</tr>\n",
       "<tr>\n",
       "  <th>C(DMDEDUC2)[T.lt9]</th>         <td>-0.995</td>   <td>0.642</td>  <td>-1.551</td> <td>0.121</td> <td>-2.254</td>  <td>0.263</td>\n",
       "</tr>\n",
       "<tr>\n",
       "  <th>C(DMDEDUC2)[T.x9_11]</th>       <td>-0.224</td>   <td>0.628</td>  <td>-0.357</td> <td>0.721</td> <td>-1.455</td>  <td>1.006</td>\n",
       "</tr>\n",
       "<tr>\n",
       "  <th>RIDAGEYR</th>                   <td>-0.034</td>   <td>0.012</td>  <td>-2.759</td> <td>0.006</td> <td>-0.059</td> <td>-0.010</td>\n",
       "</tr>\n",
       "<tr>\n",
       "  <th>BMXBMI</th>                      <td>0.188</td>   <td>0.026</td>   <td>7.363</td> <td>0.000</td>  <td>0.138</td>  <td>0.238</td>\n",
       "</tr>\n",
       "<tr>\n",
       "  <th>RIDAGEYR Var</th>                <td>0.002</td>   <td>0.000</td>     <td></td>      <td></td>       <td></td>       <td></td>   \n",
       "</tr>\n",
       "</table>"
      ],
      "text/plain": [
       "<class 'statsmodels.iolib.summary2.Summary'>\n",
       "\"\"\"\n",
       "                Mixed Linear Model Regression Results\n",
       "=====================================================================\n",
       "Model:                MixedLM     Dependent Variable:     BPXDI1     \n",
       "No. Observations:     5100        Method:                 REML       \n",
       "No. Groups:           30          Scale:                  154.2636   \n",
       "Min. group size:      105         Likelihood:             -20112.4351\n",
       "Max. group size:      226         Converged:              Yes        \n",
       "Mean group size:      170.0                                          \n",
       "---------------------------------------------------------------------\n",
       "                           Coef.  Std.Err.   z    P>|z| [0.025 0.975]\n",
       "---------------------------------------------------------------------\n",
       "Intercept                  65.444    0.962 68.054 0.000 63.559 67.328\n",
       "RIAGENDRx[T.Male]           2.729    0.351  7.780 0.000  2.041  3.416\n",
       "C(DMDEDUC2)[T.HS]          -1.091    0.520 -2.100 0.036 -2.110 -0.073\n",
       "C(DMDEDUC2)[T.SomeCollege] -0.445    0.483 -0.922 0.357 -1.391  0.501\n",
       "C(DMDEDUC2)[T.lt9]         -0.995    0.642 -1.551 0.121 -2.254  0.263\n",
       "C(DMDEDUC2)[T.x9_11]       -0.224    0.628 -0.357 0.721 -1.455  1.006\n",
       "RIDAGEYR                   -0.034    0.012 -2.759 0.006 -0.059 -0.010\n",
       "BMXBMI                      0.188    0.026  7.363 0.000  0.138  0.238\n",
       "RIDAGEYR Var                0.002    0.000                           \n",
       "=====================================================================\n",
       "\n",
       "\"\"\""
      ]
     },
     "execution_count": 108,
     "metadata": {},
     "output_type": "execute_result"
    }
   ],
   "source": [
    "# THIS CODE TAKES A LOT OF TIME IN EXECUTION,BEWARE!!!\n",
    "model = sm.MixedLM.from_formula(\"BPXDI1 ~ RIDAGEYR + RIAGENDRx + BMXBMI + C(DMDEDUC2)\",groups = \"group\",\n",
    "                               vc_formula = {\"RIDAGEYR\":\"1 + RIDAGEYR\"},data = da)\n",
    "result = model.fit()\n",
    "result.summary()\n",
    "#THE vc_formula function adds the intercept to the age"
   ]
  },
  {
   "cell_type": "markdown",
   "metadata": {},
   "source": [
    "__Q4b:__ Include a random intercept for age, and describe your findings."
   ]
  },
  {
   "cell_type": "markdown",
   "metadata": {},
   "source": [
    "Estimated variance of random intercept for age is 0.002.\n",
    "So standard deviation is 0.045\n",
    "now,(-0.034 - 0.045,-0.034 + 0.045) is the range of values for average diastolic blood pressure."
   ]
  }
 ],
 "metadata": {
  "kernelspec": {
   "display_name": "Python 3",
   "language": "python",
   "name": "python3"
  },
  "language_info": {
   "codemirror_mode": {
    "name": "ipython",
    "version": 3
   },
   "file_extension": ".py",
   "mimetype": "text/x-python",
   "name": "python",
   "nbconvert_exporter": "python",
   "pygments_lexer": "ipython3",
   "version": "3.6.3"
  }
 },
 "nbformat": 4,
 "nbformat_minor": 1
}
